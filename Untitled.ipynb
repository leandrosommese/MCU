{
 "cells": [
  {
   "cell_type": "code",
   "execution_count": 1,
   "id": "1bcde402",
   "metadata": {},
   "outputs": [],
   "source": [
    "import MDAnalysis as mda\n",
    "from MDAnalysis.tests.datafiles import PDB_small, PDB_closed, PSF, DCD\n",
    "from MDAnalysis.analysis.encore.clustering import ClusteringMethod as clm\n",
    "from MDAnalysis.analysis.encore.dimensionality_reduction import DimensionalityReductionMethod as drm\n",
    "from MDAnalysis.analysis import distances, encore, contacts, diffusionmap, align, rms\n",
    "from pmda.rms import RMSF\n",
    "\n",
    "import pandas as pd\n",
    "import numpy as np\n",
    "import matplotlib.pyplot as plt\n",
    "%matplotlib inline"
   ]
  },
  {
   "cell_type": "code",
   "execution_count": 2,
   "id": "ad406b82",
   "metadata": {},
   "outputs": [],
   "source": [
    "u = mda.Universe('/home/lean/Documentos/Lean/SBG/Base_de_calcio/DiversidadConformacionalCBS/MCU/molecular dynamic/4nsc_A_0.15CA_30ns_gromacs/md.gro','/home/lean/Documentos/Lean/SBG/Base_de_calcio/DiversidadConformacionalCBS/MCU/molecular dynamic/4nsc_A_0.15CA_30ns_gromacs/md.xtc')"
   ]
  },
  {
   "cell_type": "code",
   "execution_count": null,
   "id": "de3d4cff",
   "metadata": {},
   "outputs": [],
   "source": [
    "rmss=[]\n",
    "for i in range(len(u.trajectory)):\n",
    "    try:\n",
    "        LID_ca = u.select_atoms('resid 56606', updating=True)\n",
    "        NMP_ca = u.select_atoms('protein', updating=True)\n",
    "        u.trajectory.next()\n",
    "        n_LID = len(LID_ca)\n",
    "        n_NMP = len(NMP_ca)\n",
    "        # print('LID has {} atoms and NMP has {} atoms'.format(n_LID, n_NMP))\n",
    "        dist_arr = distances.distance_array(LID_ca.positions, # reference\n",
    "                                            NMP_ca.positions, # configuration\n",
    "                                            box=u.dimensions)\n",
    "        df = pd.DataFrame([NMP_ca.resnums,NMP_ca.resnames,NMP_ca.names,dist_arr[0]]).T\n",
    "        df.columns=['res_position','res_name','atom_name','distances']\n",
    "        rms=[]\n",
    "        for j in [138, 139, 142, 144]:  \n",
    "            print(min(df[df['res_position']==j]['distances']))\n",
    "            rms =+ (min(df[df['res_position']==j]['distances']))**2\n",
    "        rmss.append((rms/4)**(1/2))\n",
    "    except StopIteration:\n",
    "        plt.plot(rmss)\n",
    "        exit(2)"
   ]
  },
  {
   "cell_type": "code",
   "execution_count": 4,
   "id": "b599d449",
   "metadata": {},
   "outputs": [
    {
     "name": "stdout",
     "output_type": "stream",
     "text": [
      "56543\n",
      "56544\n",
      "56545\n",
      "56546\n",
      "56547\n",
      "56548\n",
      "56549\n",
      "56550\n",
      "56551\n",
      "56552\n",
      "56553\n",
      "56554\n",
      "56555\n",
      "56556\n",
      "56557\n",
      "56558\n",
      "56559\n",
      "56560\n",
      "56561\n",
      "56562\n",
      "56563\n",
      "56564\n",
      "56565\n",
      "56566\n",
      "56567\n",
      "56568\n",
      "56569\n",
      "56570\n",
      "56571\n",
      "56572\n",
      "56573\n",
      "56574\n"
     ]
    },
    {
     "ename": "KeyboardInterrupt",
     "evalue": "",
     "output_type": "error",
     "traceback": [
      "\u001b[0;31m---------------------------------------------------------------------------\u001b[0m",
      "\u001b[0;31mKeyboardInterrupt\u001b[0m                         Traceback (most recent call last)",
      "\u001b[0;32m<ipython-input-4-3e23171cd67f>\u001b[0m in \u001b[0;36m<module>\u001b[0;34m\u001b[0m\n\u001b[1;32m     13\u001b[0m                                                 \u001b[0mNMP_ca\u001b[0m\u001b[0;34m.\u001b[0m\u001b[0mpositions\u001b[0m\u001b[0;34m,\u001b[0m \u001b[0;31m# configuration\u001b[0m\u001b[0;34m\u001b[0m\u001b[0;34m\u001b[0m\u001b[0m\n\u001b[1;32m     14\u001b[0m                                                 box=u.dimensions)\n\u001b[0;32m---> 15\u001b[0;31m             \u001b[0mdf\u001b[0m \u001b[0;34m=\u001b[0m \u001b[0mpd\u001b[0m\u001b[0;34m.\u001b[0m\u001b[0mDataFrame\u001b[0m\u001b[0;34m(\u001b[0m\u001b[0;34m[\u001b[0m\u001b[0mNMP_ca\u001b[0m\u001b[0;34m.\u001b[0m\u001b[0mresnums\u001b[0m\u001b[0;34m,\u001b[0m\u001b[0mNMP_ca\u001b[0m\u001b[0;34m.\u001b[0m\u001b[0mresnames\u001b[0m\u001b[0;34m,\u001b[0m\u001b[0mNMP_ca\u001b[0m\u001b[0;34m.\u001b[0m\u001b[0mnames\u001b[0m\u001b[0;34m,\u001b[0m\u001b[0mdist_arr\u001b[0m\u001b[0;34m[\u001b[0m\u001b[0;36m0\u001b[0m\u001b[0;34m]\u001b[0m\u001b[0;34m]\u001b[0m\u001b[0;34m)\u001b[0m\u001b[0;34m.\u001b[0m\u001b[0mT\u001b[0m\u001b[0;34m\u001b[0m\u001b[0;34m\u001b[0m\u001b[0m\n\u001b[0m\u001b[1;32m     16\u001b[0m             \u001b[0mdf\u001b[0m\u001b[0;34m.\u001b[0m\u001b[0mcolumns\u001b[0m\u001b[0;34m=\u001b[0m\u001b[0;34m[\u001b[0m\u001b[0;34m'res_position'\u001b[0m\u001b[0;34m,\u001b[0m\u001b[0;34m'res_name'\u001b[0m\u001b[0;34m,\u001b[0m\u001b[0;34m'atom_name'\u001b[0m\u001b[0;34m,\u001b[0m\u001b[0;34m'distances'\u001b[0m\u001b[0;34m]\u001b[0m\u001b[0;34m\u001b[0m\u001b[0;34m\u001b[0m\u001b[0m\n\u001b[1;32m     17\u001b[0m             \u001b[0mrmss\u001b[0m\u001b[0;34m=\u001b[0m\u001b[0mrmss\u001b[0m\u001b[0;34m.\u001b[0m\u001b[0mappend\u001b[0m\u001b[0;34m(\u001b[0m\u001b[0mdf\u001b[0m\u001b[0;34m.\u001b[0m\u001b[0miloc\u001b[0m\u001b[0;34m[\u001b[0m\u001b[0mpd\u001b[0m\u001b[0;34m.\u001b[0m\u001b[0mto_numeric\u001b[0m\u001b[0;34m(\u001b[0m\u001b[0mdf\u001b[0m\u001b[0;34m.\u001b[0m\u001b[0mloc\u001b[0m\u001b[0;34m[\u001b[0m\u001b[0;34m:\u001b[0m\u001b[0;34m,\u001b[0m\u001b[0;34m'distances'\u001b[0m\u001b[0;34m]\u001b[0m\u001b[0;34m)\u001b[0m\u001b[0;34m.\u001b[0m\u001b[0midxmin\u001b[0m\u001b[0;34m(\u001b[0m\u001b[0;34m)\u001b[0m\u001b[0;34m,\u001b[0m\u001b[0;34m:\u001b[0m\u001b[0;34m]\u001b[0m\u001b[0;34m)\u001b[0m\u001b[0;34m\u001b[0m\u001b[0;34m\u001b[0m\u001b[0m\n",
      "\u001b[0;32m~/anaconda3/lib/python3.9/site-packages/pandas/core/frame.py\u001b[0m in \u001b[0;36m__init__\u001b[0;34m(self, data, index, columns, dtype, copy)\u001b[0m\n\u001b[1;32m    580\u001b[0m                             \u001b[0mindex\u001b[0m \u001b[0;34m=\u001b[0m \u001b[0mibase\u001b[0m\u001b[0;34m.\u001b[0m\u001b[0mdefault_index\u001b[0m\u001b[0;34m(\u001b[0m\u001b[0mlen\u001b[0m\u001b[0;34m(\u001b[0m\u001b[0mdata\u001b[0m\u001b[0;34m)\u001b[0m\u001b[0;34m)\u001b[0m\u001b[0;34m\u001b[0m\u001b[0;34m\u001b[0m\u001b[0m\n\u001b[1;32m    581\u001b[0m \u001b[0;34m\u001b[0m\u001b[0m\n\u001b[0;32m--> 582\u001b[0;31m                     \u001b[0mmgr\u001b[0m \u001b[0;34m=\u001b[0m \u001b[0marrays_to_mgr\u001b[0m\u001b[0;34m(\u001b[0m\u001b[0marrays\u001b[0m\u001b[0;34m,\u001b[0m \u001b[0mcolumns\u001b[0m\u001b[0;34m,\u001b[0m \u001b[0mindex\u001b[0m\u001b[0;34m,\u001b[0m \u001b[0mcolumns\u001b[0m\u001b[0;34m,\u001b[0m \u001b[0mdtype\u001b[0m\u001b[0;34m=\u001b[0m\u001b[0mdtype\u001b[0m\u001b[0;34m)\u001b[0m\u001b[0;34m\u001b[0m\u001b[0;34m\u001b[0m\u001b[0m\n\u001b[0m\u001b[1;32m    583\u001b[0m                 \u001b[0;32melse\u001b[0m\u001b[0;34m:\u001b[0m\u001b[0;34m\u001b[0m\u001b[0;34m\u001b[0m\u001b[0m\n\u001b[1;32m    584\u001b[0m                     \u001b[0mmgr\u001b[0m \u001b[0;34m=\u001b[0m \u001b[0minit_ndarray\u001b[0m\u001b[0;34m(\u001b[0m\u001b[0mdata\u001b[0m\u001b[0;34m,\u001b[0m \u001b[0mindex\u001b[0m\u001b[0;34m,\u001b[0m \u001b[0mcolumns\u001b[0m\u001b[0;34m,\u001b[0m \u001b[0mdtype\u001b[0m\u001b[0;34m=\u001b[0m\u001b[0mdtype\u001b[0m\u001b[0;34m,\u001b[0m \u001b[0mcopy\u001b[0m\u001b[0;34m=\u001b[0m\u001b[0mcopy\u001b[0m\u001b[0;34m)\u001b[0m\u001b[0;34m\u001b[0m\u001b[0;34m\u001b[0m\u001b[0m\n",
      "\u001b[0;32m~/anaconda3/lib/python3.9/site-packages/pandas/core/internals/construction.py\u001b[0m in \u001b[0;36marrays_to_mgr\u001b[0;34m(arrays, arr_names, index, columns, dtype, verify_integrity)\u001b[0m\n\u001b[1;32m     83\u001b[0m \u001b[0;34m\u001b[0m\u001b[0m\n\u001b[1;32m     84\u001b[0m         \u001b[0;31m# don't force copy because getting jammed in an ndarray anyway\u001b[0m\u001b[0;34m\u001b[0m\u001b[0;34m\u001b[0m\u001b[0m\n\u001b[0;32m---> 85\u001b[0;31m         \u001b[0marrays\u001b[0m \u001b[0;34m=\u001b[0m \u001b[0m_homogenize\u001b[0m\u001b[0;34m(\u001b[0m\u001b[0marrays\u001b[0m\u001b[0;34m,\u001b[0m \u001b[0mindex\u001b[0m\u001b[0;34m,\u001b[0m \u001b[0mdtype\u001b[0m\u001b[0;34m)\u001b[0m\u001b[0;34m\u001b[0m\u001b[0;34m\u001b[0m\u001b[0m\n\u001b[0m\u001b[1;32m     86\u001b[0m \u001b[0;34m\u001b[0m\u001b[0m\n\u001b[1;32m     87\u001b[0m         \u001b[0mcolumns\u001b[0m \u001b[0;34m=\u001b[0m \u001b[0mensure_index\u001b[0m\u001b[0;34m(\u001b[0m\u001b[0mcolumns\u001b[0m\u001b[0;34m)\u001b[0m\u001b[0;34m\u001b[0m\u001b[0;34m\u001b[0m\u001b[0m\n",
      "\u001b[0;32m~/anaconda3/lib/python3.9/site-packages/pandas/core/internals/construction.py\u001b[0m in \u001b[0;36m_homogenize\u001b[0;34m(data, index, dtype)\u001b[0m\n\u001b[1;32m    353\u001b[0m                     \u001b[0mval\u001b[0m \u001b[0;34m=\u001b[0m \u001b[0mdict\u001b[0m\u001b[0;34m(\u001b[0m\u001b[0mval\u001b[0m\u001b[0;34m)\u001b[0m\u001b[0;34m\u001b[0m\u001b[0;34m\u001b[0m\u001b[0m\n\u001b[1;32m    354\u001b[0m                 \u001b[0mval\u001b[0m \u001b[0;34m=\u001b[0m \u001b[0mlib\u001b[0m\u001b[0;34m.\u001b[0m\u001b[0mfast_multiget\u001b[0m\u001b[0;34m(\u001b[0m\u001b[0mval\u001b[0m\u001b[0;34m,\u001b[0m \u001b[0moindex\u001b[0m\u001b[0;34m.\u001b[0m\u001b[0m_values\u001b[0m\u001b[0;34m,\u001b[0m \u001b[0mdefault\u001b[0m\u001b[0;34m=\u001b[0m\u001b[0mnp\u001b[0m\u001b[0;34m.\u001b[0m\u001b[0mnan\u001b[0m\u001b[0;34m)\u001b[0m\u001b[0;34m\u001b[0m\u001b[0;34m\u001b[0m\u001b[0m\n\u001b[0;32m--> 355\u001b[0;31m             val = sanitize_array(\n\u001b[0m\u001b[1;32m    356\u001b[0m                 \u001b[0mval\u001b[0m\u001b[0;34m,\u001b[0m \u001b[0mindex\u001b[0m\u001b[0;34m,\u001b[0m \u001b[0mdtype\u001b[0m\u001b[0;34m=\u001b[0m\u001b[0mdtype\u001b[0m\u001b[0;34m,\u001b[0m \u001b[0mcopy\u001b[0m\u001b[0;34m=\u001b[0m\u001b[0;32mFalse\u001b[0m\u001b[0;34m,\u001b[0m \u001b[0mraise_cast_failure\u001b[0m\u001b[0;34m=\u001b[0m\u001b[0;32mFalse\u001b[0m\u001b[0;34m\u001b[0m\u001b[0;34m\u001b[0m\u001b[0m\n\u001b[1;32m    357\u001b[0m             )\n",
      "\u001b[0;32m~/anaconda3/lib/python3.9/site-packages/pandas/core/construction.py\u001b[0m in \u001b[0;36msanitize_array\u001b[0;34m(data, index, dtype, copy, raise_cast_failure)\u001b[0m\n\u001b[1;32m    545\u001b[0m         \u001b[0mis_object_or_str_dtype\u001b[0m \u001b[0;34m=\u001b[0m \u001b[0mis_object_dtype\u001b[0m\u001b[0;34m(\u001b[0m\u001b[0mdtype\u001b[0m\u001b[0;34m)\u001b[0m \u001b[0;32mor\u001b[0m \u001b[0mis_string_dtype\u001b[0m\u001b[0;34m(\u001b[0m\u001b[0mdtype\u001b[0m\u001b[0;34m)\u001b[0m\u001b[0;34m\u001b[0m\u001b[0;34m\u001b[0m\u001b[0m\n\u001b[1;32m    546\u001b[0m         \u001b[0;32mif\u001b[0m \u001b[0mis_object_dtype\u001b[0m\u001b[0;34m(\u001b[0m\u001b[0msubarr\u001b[0m\u001b[0;34m.\u001b[0m\u001b[0mdtype\u001b[0m\u001b[0;34m)\u001b[0m \u001b[0;32mand\u001b[0m \u001b[0;32mnot\u001b[0m \u001b[0mis_object_or_str_dtype\u001b[0m\u001b[0;34m:\u001b[0m\u001b[0;34m\u001b[0m\u001b[0;34m\u001b[0m\u001b[0m\n\u001b[0;32m--> 547\u001b[0;31m             \u001b[0minferred\u001b[0m \u001b[0;34m=\u001b[0m \u001b[0mlib\u001b[0m\u001b[0;34m.\u001b[0m\u001b[0minfer_dtype\u001b[0m\u001b[0;34m(\u001b[0m\u001b[0msubarr\u001b[0m\u001b[0;34m,\u001b[0m \u001b[0mskipna\u001b[0m\u001b[0;34m=\u001b[0m\u001b[0;32mFalse\u001b[0m\u001b[0;34m)\u001b[0m\u001b[0;34m\u001b[0m\u001b[0;34m\u001b[0m\u001b[0m\n\u001b[0m\u001b[1;32m    548\u001b[0m             \u001b[0;32mif\u001b[0m \u001b[0minferred\u001b[0m \u001b[0;32min\u001b[0m \u001b[0;34m{\u001b[0m\u001b[0;34m\"interval\"\u001b[0m\u001b[0;34m,\u001b[0m \u001b[0;34m\"period\"\u001b[0m\u001b[0;34m}\u001b[0m\u001b[0;34m:\u001b[0m\u001b[0;34m\u001b[0m\u001b[0;34m\u001b[0m\u001b[0m\n\u001b[1;32m    549\u001b[0m                 \u001b[0msubarr\u001b[0m \u001b[0;34m=\u001b[0m \u001b[0marray\u001b[0m\u001b[0;34m(\u001b[0m\u001b[0msubarr\u001b[0m\u001b[0;34m)\u001b[0m\u001b[0;34m\u001b[0m\u001b[0;34m\u001b[0m\u001b[0m\n",
      "\u001b[0;31mKeyboardInterrupt\u001b[0m: "
     ]
    }
   ],
   "source": [
    "resid_list = u.select_atoms('resname CA', updating=True).resids\n",
    "for ca_resid in resid_list[2:]:\n",
    "    print(ca_resid)\n",
    "    rmss=pd.DataFrame()\n",
    "    for i in range(len(u.trajectory)):\n",
    "        try:\n",
    "            LID_ca = u.select_atoms('resid ' + str(ca_resid), updating=True)\n",
    "            NMP_ca = u.select_atoms('protein', updating=True)\n",
    "            u.trajectory.next()\n",
    "            n_LID = len(LID_ca)\n",
    "            n_NMP = len(NMP_ca)\n",
    "            dist_arr = distances.distance_array(LID_ca.positions, # reference\n",
    "                                                NMP_ca.positions, # configuration\n",
    "                                                box=u.dimensions)\n",
    "            df = pd.DataFrame([NMP_ca.resnums,NMP_ca.resnames,NMP_ca.names,dist_arr[0]]).T\n",
    "            df.columns=['res_position','res_name','atom_name','distances']\n",
    "            rmss=rmss.append(df.iloc[pd.to_numeric(df.loc[:,'distances']).idxmin(),:])\n",
    "#             rmss.append(min(df['distances']))\n",
    "        except StopIteration:\n",
    "#             plt.plot(rmss)\n",
    "#             plt.savefig('/home/lean/Documentos/Lean/SBG/Base_de_calcio/DiversidadConformacionalCBS/MCU/molecular dynamic/ca_distances/' + str(ca_resid))\n",
    "            exit(2)\n",
    "    rmss.to_csv('/home/lean/Documentos/Lean/SBG/Base_de_calcio/DiversidadConformacionalCBS/MCU/molecular dynamic/ca_distances/' + str(ca_resid) + '.csv')"
   ]
  },
  {
   "cell_type": "code",
   "execution_count": null,
   "id": "820cdc3d",
   "metadata": {},
   "outputs": [],
   "source": [
    "df_CA503 = pd.DataFrame([NMP_ca.resnums,NMP_ca.resnames,NMP_ca.names,dist_arr[0]]).T\n",
    "df_CA503.columns=['res_position','res_name','atom_name','distances']\n",
    "df_CA503[df_CA503['res_position']==144]"
   ]
  },
  {
   "cell_type": "code",
   "execution_count": null,
   "id": "b73227d9",
   "metadata": {},
   "outputs": [],
   "source": [
    "fig, ax = plt.subplots()\n",
    "im = ax.imshow(dist_arr, origin='upper')\n",
    "\n",
    "# add residue ID labels to axes\n",
    "tick_interval = 5\n",
    "ax.set_yticks(np.arange(n_LID)[::tick_interval])\n",
    "ax.set_xticks(np.arange(n_NMP)[::tick_interval])\n",
    "ax.set_yticklabels(LID_ca.resids[::tick_interval])\n",
    "ax.set_xticklabels(NMP_ca.resids[::tick_interval])\n",
    "\n",
    "# add figure labels and titles\n",
    "plt.ylabel('LID')\n",
    "plt.xlabel('NMP')\n",
    "plt.title('Distance between alpha-carbon')\n",
    "\n",
    "# colorbar\n",
    "cbar = fig.colorbar(im)\n",
    "cbar.ax.set_ylabel('Distance (Angstrom)')"
   ]
  },
  {
   "cell_type": "markdown",
   "id": "ab8dea97",
   "metadata": {},
   "source": [
    "### Contact analysis: number of contacts within a cutoff"
   ]
  },
  {
   "cell_type": "code",
   "execution_count": null,
   "id": "9e7c2875",
   "metadata": {},
   "outputs": [],
   "source": [
    "sel_basic = \"(resname CA)\"\n",
    "sel_acidic = \"(resname ASP GLU) and (name OE* OD*)\"\n",
    "acidic = u.select_atoms(sel_acidic)\n",
    "basic = u.select_atoms(sel_basic)"
   ]
  },
  {
   "cell_type": "code",
   "execution_count": null,
   "id": "f4969204",
   "metadata": {},
   "outputs": [],
   "source": [
    "def contacts_within_cutoff(u, group_a, group_b, radius=4.5):\n",
    "    timeseries = []\n",
    "    for ts in u.trajectory:\n",
    "        # calculate distances between group_a and group_b\n",
    "        dist = contacts.distance_array(group_a.positions, group_b.positions)\n",
    "        # determine which distances <= radius\n",
    "        n_contacts = contacts.contact_matrix(dist, radius).sum()\n",
    "        timeseries.append([ts.frame, n_contacts])\n",
    "    return np.array(timeseries)"
   ]
  },
  {
   "cell_type": "code",
   "execution_count": null,
   "id": "71c3fd0c",
   "metadata": {},
   "outputs": [],
   "source": [
    "dist = contacts.distance_array(acidic.positions, basic.positions)\n",
    "# determine which distances <= radius\n",
    "n_contacts = contacts.contact_matrix(dist, 4.5)"
   ]
  },
  {
   "cell_type": "code",
   "execution_count": null,
   "id": "c90a6ba1",
   "metadata": {},
   "outputs": [],
   "source": [
    "ca = contacts_within_cutoff(u, acidic, basic, radius=4.5)\n",
    "ca.shape"
   ]
  },
  {
   "cell_type": "code",
   "execution_count": null,
   "id": "84da80eb",
   "metadata": {},
   "outputs": [],
   "source": [
    "ca_df = pd.DataFrame(ca, columns=['Frame',\n",
    "                                  '# Contacts'])\n",
    "ca_df.head()"
   ]
  },
  {
   "cell_type": "code",
   "execution_count": null,
   "id": "64b23187",
   "metadata": {},
   "outputs": [],
   "source": [
    "ca_df['# Contacts'][1000].sum()"
   ]
  },
  {
   "cell_type": "code",
   "execution_count": null,
   "id": "58c9f039",
   "metadata": {},
   "outputs": [],
   "source": []
  },
  {
   "cell_type": "code",
   "execution_count": null,
   "id": "51276fee",
   "metadata": {},
   "outputs": [],
   "source": [
    "ca_df.plot(x='Frame')\n",
    "plt.ylabel('# salt bridges')"
   ]
  },
  {
   "cell_type": "markdown",
   "id": "d551bf3e",
   "metadata": {},
   "source": [
    "### Calculating the pairwise RMSD of a trajectory"
   ]
  },
  {
   "cell_type": "markdown",
   "id": "5ea13995",
   "metadata": {},
   "source": [
    "#### RMSD to itself"
   ]
  },
  {
   "cell_type": "code",
   "execution_count": null,
   "id": "a7077230",
   "metadata": {},
   "outputs": [],
   "source": [
    "traj_0bCA = mda.Universe('/home/lean/Documentos/Lean/SBG/Base_de_calcio/DiversidadConformacionalCBS/MCU/molecular dynamic/4nsc_A_0.15CA_10ns_gromacs/md.gro','/home/lean/Documentos/Lean/SBG/Base_de_calcio/DiversidadConformacionalCBS/MCU/molecular dynamic/4nsc_A_0.15CA_10ns_gromacs/md.xtc')\n",
    "traj_3CA = mda.Universe('/home/lean/Documentos/Lean/SBG/Base_de_calcio/DiversidadConformacionalCBS/MCU/molecular dynamic/4nsc_A_0CA_gromacs/md.gro','/home/lean/Documentos/Lean/SBG/Base_de_calcio/DiversidadConformacionalCBS/MCU/molecular dynamic/4nsc_A_0CA_gromacs/md.xtc')\n",
    "traj_0aCA = mda.Universe('/home/lean/Documentos/Lean/SBG/Base_de_calcio/DiversidadConformacionalCBS/MCU/molecular dynamic/4nsdA_3CA_0.15CA0NA_gromacs/md.gro','/home/lean/Documentos/Lean/SBG/Base_de_calcio/DiversidadConformacionalCBS/MCU/molecular dynamic/4nsdA_3CA_0.15CA0NA_gromacs/md.xtc')"
   ]
  },
  {
   "cell_type": "code",
   "execution_count": null,
   "id": "6149eab4",
   "metadata": {},
   "outputs": [],
   "source": [
    "aligner = align.AlignTraj(traj_0aCA, traj_0bCA, select='name C',\n",
    "                          in_memory=True).run()"
   ]
  },
  {
   "cell_type": "code",
   "execution_count": null,
   "id": "1c632b80",
   "metadata": {},
   "outputs": [],
   "source": [
    "matrix = diffusionmap.DistanceMatrix(traj_0CA, select='name CA').run()"
   ]
  },
  {
   "cell_type": "code",
   "execution_count": null,
   "id": "9aa0ef7f",
   "metadata": {},
   "outputs": [],
   "source": [
    "matrix.results.dist_matrix.shape"
   ]
  },
  {
   "cell_type": "code",
   "execution_count": null,
   "id": "8a423c33",
   "metadata": {},
   "outputs": [],
   "source": [
    "plt.imshow(matrix.results.dist_matrix, cmap='viridis')\n",
    "plt.xlabel('Frame')\n",
    "plt.ylabel('Frame')\n",
    "plt.colorbar(label=r'RMSD ($\\AA$)')"
   ]
  },
  {
   "cell_type": "markdown",
   "id": "3a5a16b4",
   "metadata": {},
   "source": [
    "#### RMSD two trajectories "
   ]
  },
  {
   "cell_type": "code",
   "execution_count": null,
   "id": "53c29be5",
   "metadata": {},
   "outputs": [],
   "source": [
    "prmsd = np.zeros((len(traj_0CA.trajectory),  # y-axis\n",
    "                  len(traj_3CA.trajectory)))  # x-axis"
   ]
  },
  {
   "cell_type": "code",
   "execution_count": null,
   "id": "bf2a0906",
   "metadata": {},
   "outputs": [],
   "source": [
    "for i, frame_open in enumerate(traj_3CA.trajectory):\n",
    "    r = rms.RMSD(traj_0CA, traj_3CA, select='name C',\n",
    "                 ref_frame=i).run()\n",
    "    prmsd[i] = r.results.rmsd[:, -1]  # select 3rd column with RMSD values"
   ]
  },
  {
   "cell_type": "code",
   "execution_count": null,
   "id": "f0a02bb4",
   "metadata": {},
   "outputs": [],
   "source": [
    "plt.imshow(prmsd, cmap='viridis')\n",
    "plt.xlabel('Frame (traj_0CA)')\n",
    "plt.ylabel('Frame (traj_3CA)')\n",
    "plt.colorbar(label=r'RMSD ($\\AA$)')"
   ]
  },
  {
   "cell_type": "markdown",
   "id": "ef3c3652",
   "metadata": {},
   "source": [
    "### Calculating RMSF"
   ]
  },
  {
   "cell_type": "code",
   "execution_count": null,
   "id": "3f73abb5",
   "metadata": {},
   "outputs": [],
   "source": [
    "c_alphas = traj_0aCA.select_atoms('protein and name CA')\n",
    "R = rms.RMSF(c_alphas).run()\n",
    "c2_alphas = traj_0bCA.select_atoms('protein and name CA')\n",
    "R2 = rms.RMSF(c2_alphas).run()"
   ]
  },
  {
   "cell_type": "code",
   "execution_count": null,
   "id": "6af989c7",
   "metadata": {
    "scrolled": true
   },
   "outputs": [],
   "source": [
    "plt.plot(c_alphas.resids, R.results.rmsf, 'g')\n",
    "plt.plot(c2_alphas.resids, R2.results.rmsf, 'r')\n",
    "\n",
    "plt.xlabel('Residue number')\n",
    "plt.ylabel('RMSF ($\\AA$)')\n",
    "plt.axvspan(138, 144,zorder=0, alpha=0.3, color='orange', label='CBS503')\n",
    "plt.axvspan(231, 242, zorder=0, alpha=0.3, color='green', label='CBS501')\n",
    "plt.axvspan(421, 432, zorder=0, alpha=0.3, color='blue', label='CBS502')\n",
    "plt.legend()"
   ]
  },
  {
   "cell_type": "markdown",
   "id": "bc0706a1",
   "metadata": {},
   "source": [
    "### Read energy data"
   ]
  },
  {
   "cell_type": "code",
   "execution_count": null,
   "id": "798974a6",
   "metadata": {},
   "outputs": [],
   "source": [
    "import MDAnalysis as mda\n",
    "import numpy as np\n",
    "import matplotlib.pyplot as plt\n",
    "\n",
    "# Ruta al archivo ener.edr\n",
    "ener_file = '/home/lean/Documentos/Lean/SBG/Base_de_calcio/DiversidadConformacionalCBS/MCU/molecular dynamic/4nsd_A_3CA_gromacs/md_0_1.edr'\n",
    "\n",
    "# Crear el objeto Energy\n",
    "ener = mda.auxiliary.EDR.EDRReader(ener_file)\n",
    "\n",
    "print(ener.terms)\n",
    "# Obtener las energías de la simulación\n",
    "some_terms = ener.get_data([\"Potential\", \"Kinetic En.\", \"Box-X\",\"Coul-SR:Protein-CA\"])\n",
    "plt.plot(some_terms[\"Time\"], some_terms[\"Coul-SR:Protein-CA\"])"
   ]
  },
  {
   "cell_type": "markdown",
   "id": "027d5fd9",
   "metadata": {},
   "source": [
    "### Trajectory to pdb"
   ]
  },
  {
   "cell_type": "code",
   "execution_count": null,
   "id": "1c5b82f9",
   "metadata": {
    "scrolled": true
   },
   "outputs": [],
   "source": [
    "path = '/home/lean/Documentos/Lean/SBG/Base_de_calcio/DiversidadConformacionalCBS/MCU/molecular dynamic/'\n",
    "u = mda.Universe(path + '4nsc_A_0.15CA_gromacs/md.gro', path + '4nsc_A_0.15CA_gromacs/md.xtc')\n",
    "protein = u.select_atoms('protein')# + u.select_atoms('resname CA')\n",
    "with mda.Writer(path + \"4nsc_A_0.15CA_0NA.pdb\") as pdb:\n",
    "    pdb.write(protein)"
   ]
  },
  {
   "cell_type": "code",
   "execution_count": null,
   "id": "be489a27",
   "metadata": {},
   "outputs": [],
   "source": [
    "path = '/home/lean/Documentos/Lean/SBG/Base_de_calcio/DiversidadConformacionalCBS/MCU/molecular dynamic/'\n",
    "u = mda.Universe(path + '4nsc_A_0.15CA_gromacs/md.gro', path + '4nsc_A_0.15CA_gromacs/md.xtc')\n",
    "protein = u.select_atoms('protein')# + u.select_atoms('resname CA')"
   ]
  },
  {
   "cell_type": "markdown",
   "id": "8e460f4b",
   "metadata": {},
   "source": [
    "### RMSF of PDB"
   ]
  },
  {
   "cell_type": "code",
   "execution_count": null,
   "id": "4e1120d5",
   "metadata": {},
   "outputs": [],
   "source": [
    "import MDAnalysis as mda\n",
    "import numpy as np\n",
    "import os\n",
    "import matplotlib.pyplot as plt\n",
    "\n",
    "path = '/home/lean/Documentos/Lean/Andrea/'\n",
    "# Cargar las dos estructuras PDB\n",
    "for andrea_ac in os.listdir(path + '7.5_model/'):\n",
    "    if '5o04' in andrea_ac:\n",
    "        print(andrea_ac)\n",
    "        u1 = mda.Universe(path + '7.5_model/' + andrea_ac)\n",
    "        for hassman_ac in os.listdir(path + 'nano85/'):\n",
    "            if '5o04' in hassman_ac:\n",
    "                print(hassman_ac)\n",
    "                u2 = mda.Universe(path + 'nano85/' + hassman_ac)\n",
    "                \n",
    "                # Seleccionar el grupo de átomos de interés (ajusta según tu sistema)\n",
    "                seleccion = u1.select_atoms(\"protein and name CA\")\n",
    "\n",
    "                # Obtener las coordenadas de ambas estructuras\n",
    "                coord1 = u1.select_atoms(\"protein and name CA\").positions[:117]\n",
    "                coord2 = u2.select_atoms(\"protein and name CA\").positions[:117]\n",
    "\n",
    "                # Calcular la diferencia RMSF\n",
    "                rmsf_diff = np.sqrt(np.mean(np.square(coord1 - coord2), axis=1))\n",
    "\n",
    "                # Graficar la diferencia RMSF\n",
    "                plt.plot(seleccion.residues.resids[:117], rmsf_diff, label='Diferencia RMSF')\n",
    "                plt.xlabel('Residuo')\n",
    "                plt.ylabel('Diferencia RMSF (Å)')\n",
    "                plt.legend()\n",
    "                plt.show()"
   ]
  },
  {
   "cell_type": "code",
   "execution_count": null,
   "id": "e53ae287",
   "metadata": {},
   "outputs": [],
   "source": [
    "import MDAnalysis as mda\n",
    "import numpy as np\n",
    "import os\n",
    "import matplotlib.pyplot as plt\n",
    "\n",
    "path = '/home/lean/Documentos/Lean/glucogenosis/G6P/'\n",
    "# Cargar las dos estructuras PDB\n",
    "for andrea_ac in os.listdir(path):\n",
    "    if 'G6Phuman-WTmodel' in andrea_ac:\n",
    "        print(andrea_ac)\n",
    "        u1 = mda.Universe(path + andrea_ac)\n",
    "        for hassman_ac in os.listdir(path):\n",
    "            if 'G6Phuman-T16Rmodel' in hassman_ac:\n",
    "                print(hassman_ac)\n",
    "                u2 = mda.Universe(path + hassman_ac)\n",
    "                \n",
    "                # Seleccionar el grupo de átomos de interés (ajusta según tu sistema)\n",
    "                seleccion = u1.select_atoms(\"protein and name CA\")\n",
    "\n",
    "                # Obtener las coordenadas de ambas estructuras\n",
    "                coord1 = u1.select_atoms(\"protein and name CA\").positions[:117]\n",
    "                coord2 = u2.select_atoms(\"protein and name CA\").positions[:117]\n",
    "\n",
    "                # Calcular la diferencia RMSF\n",
    "                rmsf_diff = np.sqrt(np.mean(np.square(coord1 - coord2), axis=1))\n",
    "\n",
    "                # Graficar la diferencia RMSF\n",
    "                plt.plot(seleccion.residues.resids[:117], rmsf_diff, label='Diferencia RMSF')\n",
    "                plt.xlabel('Residuo')\n",
    "                plt.ylabel('Diferencia RMSF (Å)')\n",
    "                plt.legend()\n",
    "                plt.show()"
   ]
  },
  {
   "cell_type": "code",
   "execution_count": null,
   "id": "32b26e96",
   "metadata": {},
   "outputs": [],
   "source": [
    "rmsf_diff[15]"
   ]
  },
  {
   "cell_type": "code",
   "execution_count": null,
   "id": "c06c87c3",
   "metadata": {},
   "outputs": [],
   "source": []
  }
 ],
 "metadata": {
  "kernelspec": {
   "display_name": "Python 3",
   "language": "python",
   "name": "python3"
  },
  "language_info": {
   "codemirror_mode": {
    "name": "ipython",
    "version": 3
   },
   "file_extension": ".py",
   "mimetype": "text/x-python",
   "name": "python",
   "nbconvert_exporter": "python",
   "pygments_lexer": "ipython3",
   "version": "3.9.7"
  }
 },
 "nbformat": 4,
 "nbformat_minor": 5
}
