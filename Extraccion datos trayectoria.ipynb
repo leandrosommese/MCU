{
 "cells": [
  {
   "cell_type": "code",
   "execution_count": 1,
   "id": "1bcde402",
   "metadata": {},
   "outputs": [],
   "source": [
    "import MDAnalysis as mda\n",
    "from MDAnalysis.tests.datafiles import PDB_small, PDB_closed, PSF, DCD\n",
    "from MDAnalysis.analysis.encore.clustering import ClusteringMethod as clm\n",
    "from MDAnalysis.analysis.encore.dimensionality_reduction import DimensionalityReductionMethod as drm\n",
    "from MDAnalysis.analysis import distances, encore, contacts, diffusionmap, align, rms\n",
    "from pmda.rms import RMSF\n",
    "\n",
    "import os\n",
    "import pandas as pd\n",
    "import numpy as np\n",
    "import matplotlib.pyplot as plt\n",
    "%matplotlib inline"
   ]
  },
  {
   "cell_type": "code",
   "execution_count": null,
   "id": "ad406b82",
   "metadata": {},
   "outputs": [],
   "source": [
    "traj_path = '/home/lean/Documentos/Lean/SBG/Base_de_calcio/DiversidadConformacionalCBS/MCU/molecular dynamic/'\n",
    "u = mda.Universe(traj_path + '4nsc_A_0.15CA_30ns_gromacs/md.gro', traj_path + '4nsc_A_0.15CA_30ns_gromacs/md.xtc')"
   ]
  },
  {
   "cell_type": "code",
   "execution_count": null,
   "id": "0dccdb29",
   "metadata": {},
   "outputs": [],
   "source": [
    "# Interacción MCU ---> 106 107 110 111 114 117 121\n",
    "# Interacción EMRE ---> 126 129\n",
    "# Interacción MICU2 ---> 352\n",
    "# Interfase I ---> 242 253 221 231 225 229\n",
    "# Interfase I ---> 383 385 427 398 386\n",
    "# Sitios de unión a Ca2+ ---> 231 235 237 242 \n",
    "#                        ---> 421 425 427 432\n",
    "#                        ---> ¿200 196 185 138 199 139?"
   ]
  },
  {
   "cell_type": "code",
   "execution_count": null,
   "id": "de3d4cff",
   "metadata": {
    "jupyter": {
     "outputs_hidden": true
    },
    "scrolled": true,
    "tags": []
   },
   "outputs": [],
   "source": [
    "rmss=[]\n",
    "for i in range(len(u.trajectory)):\n",
    "    try:\n",
    "        LID_ca = u.select_atoms('resid 56635', updating=True)\n",
    "        NMP_ca = u.select_atoms('protein', updating=True)\n",
    "        u.trajectory.next()\n",
    "        n_LID = len(LID_ca)\n",
    "        n_NMP = len(NMP_ca)\n",
    "        # print('LID has {} atoms and NMP has {} atoms'.format(n_LID, n_NMP))\n",
    "        dist_arr = distances.distance_array(LID_ca.positions, # reference\n",
    "                                            NMP_ca.positions, # configuration\n",
    "                                            box=u.dimensions)\n",
    "        df = pd.DataFrame([NMP_ca.resnums,NMP_ca.resnames,NMP_ca.names,dist_arr[0]]).T\n",
    "        df.columns=['res_position','res_name','atom_name','distances']\n",
    "        rms=[]\n",
    "        contact=pd.DataFrame()\n",
    "        for j in [200, 196, 185, 138, 199, 139]:\n",
    "            dfj = df[df['res_position']==j].reset_index()\n",
    "            contact=contact.append(dfj.iloc[pd.to_numeric(dfj.loc[:,'distances']).idxmin(),:])\n",
    "            rms =+ (min(df[df['res_position']==j]['distances']))**2\n",
    "        rmss.append((rms/6)**(1/2))\n",
    "#         print(contact)\n",
    "    except StopIteration:\n",
    "        plt.plot(rmss)\n",
    "        exit(2)"
   ]
  },
  {
   "cell_type": "markdown",
   "id": "2d0a7761",
   "metadata": {},
   "source": [
    "### Iones en contacto con la proteína"
   ]
  },
  {
   "cell_type": "code",
   "execution_count": null,
   "id": "b599d449",
   "metadata": {
    "tags": []
   },
   "outputs": [],
   "source": [
    "resid_list = u.select_atoms('resname CA', updating=True).resids\n",
    "for ca_resid in [56610,56591,56561,56671]:\n",
    "    print(ca_resid)\n",
    "    rmss=pd.DataFrame()\n",
    "    for i in range(len(u.trajectory)):\n",
    "        try:\n",
    "            LID_ca = u.select_atoms('resid ' + str(ca_resid), updating=True)\n",
    "            NMP_ca = u.select_atoms('protein', updating=True)\n",
    "            u.trajectory.next()\n",
    "            n_LID = len(LID_ca)\n",
    "            n_NMP = len(NMP_ca)\n",
    "            dist_arr = distances.distance_array(LID_ca.positions, # reference\n",
    "                                                NMP_ca.positions, # configuration\n",
    "                                                box=u.dimensions)\n",
    "            frame=[i]*7622\n",
    "            df = pd.DataFrame([frame,NMP_ca.resnums,NMP_ca.resnames,NMP_ca.names,dist_arr[0]]).T\n",
    "            df.columns=['frame','res_position','res_name','atom_name','distances']\n",
    "            rmss=rmss.append(df[pd.to_numeric(df['distances'])<5])\n",
    "#             rmss=rmss.append(df.iloc[pd.to_numeric(df.loc[:,'distances']).idxmin(),:])\n",
    "        except StopIteration:\n",
    "#             plt.plot(rmss)\n",
    "#             plt.savefig('/home/lean/Documentos/Lean/SBG/Base_de_calcio/DiversidadConformacionalCBS/MCU/molecular dynamic/ca_distances/' + str(ca_resid))\n",
    "            exit(2)\n",
    "    rmss.to_csv('/home/lean/Documentos/Lean/SBG/Base_de_calcio/DiversidadConformacionalCBS/MCU/molecular dynamic/' + str(ca_resid) + '.csv')"
   ]
  },
  {
   "cell_type": "markdown",
   "id": "5fb6a2b3",
   "metadata": {},
   "source": [
    "### Plot de distancia ion/proteina"
   ]
  },
  {
   "cell_type": "code",
   "execution_count": null,
   "id": "820cdc3d",
   "metadata": {
    "jupyter": {
     "outputs_hidden": true
    },
    "scrolled": true,
    "tags": []
   },
   "outputs": [],
   "source": [
    "ca_dist_folder= traj_path + 'ca_distances/'\n",
    "# for file in os.listdir(ca_dist_folder):\n",
    "for file in [56610,56591,56561,56671,56542,56665,56635,56653]:\n",
    "    plt.figure()\n",
    "    plt.plot(pd.read_csv(ca_dist_folder + str(file) + '.csv')['distances'])\n",
    "    plt.title(file)\n",
    "    plt.show()"
   ]
  },
  {
   "cell_type": "markdown",
   "id": "dd1ff4da",
   "metadata": {},
   "source": [
    "### Residuos en contacto con iones de interés"
   ]
  },
  {
   "cell_type": "code",
   "execution_count": null,
   "id": "fa7a1340",
   "metadata": {
    "jupyter": {
     "outputs_hidden": true
    },
    "scrolled": false,
    "tags": []
   },
   "outputs": [],
   "source": [
    "ca_dist_folder= traj_path + 'ca_distances/'\n",
    "for i in [56542,56665,56635,56653]:\n",
    "# for i in [56610,56591,56561,56671,56542,56665,56635,56653]:\n",
    "    df=pd.read_csv(ca_dist_folder + str(i) + '.csv')\n",
    "    df_contact = df[df['distances']<5]\n",
    "    pd.set_option('display.max_rows', None)\n",
    "#     print(i,df_contact)\n",
    "    print(i,df_contact.drop_duplicates(subset='res_position'))\n",
    "    # list(df_contact['res_position'].drop_duplicates())"
   ]
  },
  {
   "cell_type": "code",
   "execution_count": null,
   "id": "b73227d9",
   "metadata": {
    "jupyter": {
     "outputs_hidden": true
    },
    "tags": []
   },
   "outputs": [],
   "source": [
    "fig, ax = plt.subplots()\n",
    "im = ax.imshow(dist_arr, origin='upper')\n",
    "\n",
    "# add residue ID labels to axes\n",
    "tick_interval = 5\n",
    "ax.set_yticks(np.arange(n_LID)[::tick_interval])\n",
    "ax.set_xticks(np.arange(n_NMP)[::tick_interval])\n",
    "ax.set_yticklabels(LID_ca.resids[::tick_interval])\n",
    "ax.set_xticklabels(NMP_ca.resids[::tick_interval])\n",
    "\n",
    "# add figure labels and titles\n",
    "plt.ylabel('LID')\n",
    "plt.xlabel('NMP')\n",
    "plt.title('Distance between alpha-carbon')\n",
    "\n",
    "# colorbar\n",
    "cbar = fig.colorbar(im)\n",
    "cbar.ax.set_ylabel('Distance (Angstrom)')"
   ]
  },
  {
   "cell_type": "markdown",
   "id": "ab8dea97",
   "metadata": {},
   "source": [
    "### Contact analysis: number of contacts within a cutoff"
   ]
  },
  {
   "cell_type": "code",
   "execution_count": null,
   "id": "9e7c2875",
   "metadata": {},
   "outputs": [],
   "source": [
    "sel_basic = \"(resid 56635)\"\n",
    "sel_acidic = \"(resname ASP GLU)\"\n",
    "acidic = u.select_atoms(sel_acidic)\n",
    "basic = u.select_atoms(sel_basic)"
   ]
  },
  {
   "cell_type": "code",
   "execution_count": null,
   "id": "f4969204",
   "metadata": {},
   "outputs": [],
   "source": [
    "def contacts_within_cutoff(u, group_a, group_b, radius=4.5):\n",
    "    timeseries = []\n",
    "    for ts in u.trajectory:\n",
    "        # calculate distances between group_a and group_b\n",
    "        dist = contacts.distance_array(group_a.positions, group_b.positions)\n",
    "        # determine which distances <= radius\n",
    "        n_contacts = contacts.contact_matrix(dist, radius).sum()\n",
    "        timeseries.append([ts.frame, n_contacts])\n",
    "    return np.array(timeseries)"
   ]
  },
  {
   "cell_type": "code",
   "execution_count": null,
   "id": "88c27853",
   "metadata": {},
   "outputs": [],
   "source": [
    "ca1 = contacts.Contacts(u, select=(sel_acidic, sel_basic),\n",
    "                        refgroup=(acidic, basic), radius=4.5)\n",
    "# iterate through trajectory and perform analysis of \"native contacts\" Q\n",
    "ca1.run()\n",
    "# print number of averave contacts\n",
    "ca1.timeseries"
   ]
  },
  {
   "cell_type": "code",
   "execution_count": null,
   "id": "ac24f809",
   "metadata": {},
   "outputs": [],
   "source": [
    "ca1.timeseries.shape"
   ]
  },
  {
   "cell_type": "code",
   "execution_count": null,
   "id": "84da80eb",
   "metadata": {},
   "outputs": [],
   "source": [
    "ca = contacts_within_cutoff(u, acidic, basic, radius=4.5)\n",
    "ca_df = pd.DataFrame(ca, columns=['Frame',\n",
    "                                  '# Contacts'])\n",
    "ca_df.tail()"
   ]
  },
  {
   "cell_type": "code",
   "execution_count": null,
   "id": "51276fee",
   "metadata": {},
   "outputs": [],
   "source": [
    "ca_df.plot(x='Frame')\n",
    "plt.ylabel('# salt bridges')"
   ]
  },
  {
   "cell_type": "code",
   "execution_count": null,
   "id": "a47da6f5",
   "metadata": {},
   "outputs": [],
   "source": [
    "mda.analysis.contacts.q1q2(u, select='protein', radius=4.5)"
   ]
  },
  {
   "cell_type": "markdown",
   "id": "bec7417f",
   "metadata": {},
   "source": [
    "### Contact analysis: mapa de contactos"
   ]
  },
  {
   "cell_type": "code",
   "execution_count": null,
   "id": "e3ed7e3c",
   "metadata": {},
   "outputs": [],
   "source": [
    "import mdtraj as md\n",
    "import numpy as np\n",
    "from __future__ import print_function\n",
    "import matplotlib\n",
    "from matplotlib.backends.backend_agg import FigureCanvasAgg as FigureCanvas\n",
    "from matplotlib.figure import Figure\n",
    "# Enviroment variable\n",
    "XTC = '/home/lean/Documentos/Lean/SBG/Base_de_calcio/DiversidadConformacionalCBS/MCU/molecular dynamic/4nsc_A_0.15CA_30ns_gromacs/md.xtc'\n",
    "PDB = '/home/lean/Documentos/Lean/SBG/Base_de_calcio/DiversidadConformacionalCBS/MCU/molecular dynamic/4nsc_A_0.15CA_30ns_gromacs/4nscA_model_3.pdb'"
   ]
  },
  {
   "cell_type": "code",
   "execution_count": null,
   "id": "90af9cdf",
   "metadata": {
    "scrolled": true
   },
   "outputs": [],
   "source": [
    "traj = md.load(XTC, top = PDB)\n",
    "print('Frames: %d  Atoms: %d  Dimentions: %d\\n' % traj.xyz.shape)\n",
    "print('Time steps: %d ps' % (traj.time[1] - traj.time[0])) # pico second"
   ]
  },
  {
   "cell_type": "code",
   "execution_count": null,
   "id": "685d2292",
   "metadata": {},
   "outputs": [],
   "source": [
    "topology = traj.topology\n",
    "print('MD imformation: %s\\n' % topology)\n",
    "print('All residues: %s\\n' % \n",
    "      [residue for residue in traj.topology.residues])\n",
    "# Select the sidechain of first residue in structure\n",
    "selection = topology.select(\"(resid %d) and sidechain\" % 0)\n",
    "print('The sidechian coordinates of first residue:\\n')\n",
    "for i in traj.xyz[0, selection, :]:\n",
    "    print(i)"
   ]
  },
  {
   "cell_type": "code",
   "execution_count": null,
   "id": "b3b9515f",
   "metadata": {},
   "outputs": [],
   "source": [
    "def calc_residue_dist(residues = (0, 0)):\n",
    "    \"\"\"\n",
    "    Return the C-alpha distance between two residues.\n",
    "    \"\"\"\n",
    "    diff_vector  = residues[0] - residues[1]\n",
    "    return np.sqrt(np.vdot(diff_vector, diff_vector))\n",
    "    \n",
    "def calc_side_center_mass(topology, frame): \n",
    "    \"\"\"\n",
    "    Return approximate center of mass of each side chain.\n",
    "    COM od Glycine is approximated by the coordinate of its CA atom.\n",
    "    \"\"\"\n",
    "    scmass = []\n",
    "    \n",
    "    for i in range(0, topology.n_residues):\n",
    "        selection = topology.select(\"(resid %d) and sidechain\" % i)\n",
    "        if len(selection) < 1:\n",
    "            selection = topology.select(\"(resid %d) and (name CA)\" % i)\n",
    "        mass = np.array([0.0, 0.0, 0.0])\n",
    "        for atom in selection:\n",
    "            mass += traj.xyz[frame, atom, :]\n",
    "        scmass.append(mass/len(selection))\n",
    "    return scmass\n",
    "def calc_residue_side_dist(frame, residue_one, residue_two):\n",
    "    \"\"\"\n",
    "    Return the C-alpha distance between two residues.\n",
    "    \"\"\"\n",
    "    # Select first residue\n",
    "    selection1 = topology.select(\"(resid %d) and sidechain\" % residue_one)\n",
    "    if len(selection1) < 1:\n",
    "        selection1 = topology.select(\"(resid %d) and (name CA)\" % residue_one)\n",
    "    # Select second residue\n",
    "    selection2 = topology.select(\"(resid %d) and sidechain\" % residue_two)\n",
    "    if len(selection2) < 1:\n",
    "        selection2 = topology.select(\"(resid %d) and (name CA)\" % residue_two)\n",
    "    \n",
    "    return min( map(calc_residue_dist, [(x,y) for x in traj.xyz[frame, selection1, :] \\\n",
    "                                        for y in traj.xyz[frame, selection2, :]])  )\n",
    "def calc_matrix_cm(trj, frame, threshold = 0.8, distance = 1.2):\n",
    "        \"\"\"\n",
    "        Used internally to compute the matrix data when the object is\n",
    "        initialized.\n",
    "        \"\"\"\n",
    "        selection = trj.topology.select('name CA')\n",
    "        scmass = calc_side_center_mass(trj.topology, frame)\n",
    "        dim = len(selection)\n",
    "        \n",
    "        matrix = np.zeros((len(selection), len(selection)))#, np.bool)\n",
    "        for row, atom1 in enumerate(selection):\n",
    "            for col, atom2 in enumerate(selection):\n",
    "                # Only calculate once\n",
    "                if col > row - 1:\n",
    "                    continue\n",
    "                \n",
    "                # the atom pointprint(traj.xyz[0, atom, :])\n",
    "                val = calc_residue_dist(residues = (traj.xyz[frame, atom1, :], traj.xyz[frame, atom2, :]))\n",
    "                # Center of mass\n",
    "                \n",
    "                dis = calc_residue_dist((scmass[col], scmass[row]))\n",
    "                 \n",
    "                matrix[row, col] = val < threshold\n",
    "                \n",
    "                if dis < distance: \n",
    "                    matrix[col, row] = 1 - dis/distance\n",
    "                else: \n",
    "                    matrix[col, row] = 0                \n",
    "                    \n",
    "        return matrix\n",
    "    \n",
    "def calc_matrix_dis(trj, frame, threshold = 0.8, distance = (0.5, 1.2)):\n",
    "        \"\"\"\n",
    "        Used internally to compute the matrix data when the object is\n",
    "        initialized.\n",
    "        \"\"\"\n",
    "        selection = trj.topology.select('name CA')\n",
    "        scmass = calc_side_center_mass(trj.topology, frame)\n",
    "        dim = len(selection)\n",
    "        \n",
    "        matrix = np.zeros((len(selection), len(selection)))#, np.bool)\n",
    "        for row, atom1 in enumerate(selection):\n",
    "            for col, atom2 in enumerate(selection):\n",
    "                # Only calculate once\n",
    "                if col > row - 1:\n",
    "                    continue\n",
    "                \n",
    "                # the atom pointprint(traj.xyz[0, atom, :])\n",
    "                val = calc_residue_dist(residues = (traj.xyz[frame, atom1, :], traj.xyz[frame, atom2, :]))\n",
    "                # closest distance of sidechains\n",
    "                dis = calc_residue_side_dist(frame, row, col) \n",
    "                \n",
    "                matrix[row, col] = val < threshold\n",
    "                \n",
    "                if dis < distance[0]: \n",
    "                    matrix[col, row] = 1\n",
    "                elif distance[0] < dis < distance[1]: \n",
    "                    matrix[col, row] = (distance[1] - dis)/(distance[1] - distance[0])\n",
    "        return matrix"
   ]
  },
  {
   "cell_type": "code",
   "execution_count": null,
   "id": "c9765bde",
   "metadata": {},
   "outputs": [],
   "source": [
    "ef draw(matrix, fig=None, cmap = 'binary', interpolation = 'nearest', colorbar = True, contour = False):\n",
    "        \"\"\"\n",
    "        Creates a matplotlib figure representing the map's matrix.  An existing\n",
    "        figure can be provided to be drawn on, otherwise a new figure will be\n",
    "        created.\n",
    "        \"\"\"\n",
    "        if not fig: fig = Figure()\n",
    "        ax = fig.add_subplot(111)\n",
    "        cax = ax.imshow(matrix, cmap = matplotlib.cm.get_cmap(cmap), \\\n",
    "                         interpolation = interpolation, origin=\"lower\")\n",
    "        #ax.set_title(self.title)\n",
    "        #ax.set_xlabel(self.xlabel)\n",
    "        #ax.set_ylabel(self.ylabel)\n",
    "        if colorbar: \n",
    "            cbar = fig.colorbar(cax, cmap = matplotlib.cm.get_cmap(cmap))\n",
    "        #    cbar.ax.set_ylabel(self.colorbarlabel)\n",
    "        if contour:\n",
    "            ax.contour(matrix, cmap = matplotlib.cm.get_cmap(cmap))\n",
    "        return fig\n",
    "    \n",
    "def show(matrix):\n",
    "    \"\"\"\n",
    "    Use pyplot to display the map in an interactive window.  Will block\n",
    "    until the window is closed.\n",
    "    \"\"\"\n",
    "    import matplotlib.pyplot as plt\n",
    "    draw(matrix, fig = plt.figure())\n",
    "    plt.show()    \n",
    "    \n",
    "    \n",
    "def print_figure(matrix, filename=\"map.png\"):\n",
    "    \"\"\"\n",
    "    Generates a plot of the map's data and saves an image at the given\n",
    "    filename.\n",
    "    \"\"\"\n",
    "    canvas = FigureCanvas(draw(matrix))\n",
    "    canvas.print_figure(filename)\n",
    "    \n",
    "def print_csv(matrix, filename=\"map.csv\"):\n",
    "    np.savetxt(filename, matrix, delimiter = ',')\n",
    "    print('Saved matrix as file %s' % filename)"
   ]
  },
  {
   "cell_type": "code",
   "execution_count": null,
   "id": "84a60d1f",
   "metadata": {},
   "outputs": [],
   "source": [
    "for i in range(0, 400, 40):\n",
    "    'Output one contact map per 40 ns from a 400 ns trjactory'\n",
    "    name = 'dist-map-%dns.png' % (i * 0.05)\n",
    "    matrix = calc_matrix_dis(trj = traj, frame = i)\n",
    "    show(matrix = matrix)\n",
    "    print_figure(matrix, filename = name)\n",
    "    \n",
    "    if i > 0: continue\n",
    "    matrix = calc_matrix_cm(trj = traj, frame = i)\n",
    "    show(matrix = matrix)\n",
    "    print_figure(matrix, filename=\"cm-map.png\")\n",
    "    print_csv(matrix)"
   ]
  },
  {
   "cell_type": "markdown",
   "id": "bf3d7e6d",
   "metadata": {},
   "source": [
    "## Análisis de contactos del RING"
   ]
  },
  {
   "cell_type": "code",
   "execution_count": 12,
   "id": "1ce1eb1c",
   "metadata": {},
   "outputs": [],
   "source": [
    "path = '/home/lean/Documentos/Lean/SBG/Base_de_calcio/DiversidadConformacionalCBS/MCU/contactos/'\n",
    "file_contacts = 'align_contacts.tsv'\n",
    "file_conformational_dependent = 'align_conformational_dependent_cm.csv'"
   ]
  },
  {
   "cell_type": "code",
   "execution_count": 13,
   "id": "9528673e",
   "metadata": {},
   "outputs": [],
   "source": [
    "# Interacción MCU ---> 106 107 110 111 114 117 121\n",
    "# Interacción EMRE ---> 126 129\n",
    "# Interacción MICU2 ---> 352\n",
    "# Interfase I ---> 242 253 221 231 225 229\n",
    "# Interfase I ---> 383 385 427 398 386\n",
    "# Sitios de unión a Ca2+ ---> 231 235 237 242 \n",
    "#                        ---> 421 425 427 432\n",
    "#                        ---> ¿200 196 185 138 199 139?"
   ]
  },
  {
   "cell_type": "code",
   "execution_count": 19,
   "id": "f76f77b1",
   "metadata": {},
   "outputs": [
    {
     "data": {
      "text/plain": [
       "11     106\n",
       "12     107\n",
       "25     110\n",
       "26     111\n",
       "44     117\n",
       "65     126\n",
       "72     129\n",
       "95     138\n",
       "97     139\n",
       "193    185\n",
       "216    196\n",
       "228    200\n",
       "277    221\n",
       "288    225\n",
       "297    229\n",
       "303    231\n",
       "309    235\n",
       "327    242\n",
       "353    253\n",
       "583    352\n",
       "653    383\n",
       "657    385\n",
       "661    386\n",
       "686    398\n",
       "744    421\n",
       "752    425\n",
       "756    427\n",
       "770    432\n",
       "Name: Position, dtype: object"
      ]
     },
     "execution_count": 19,
     "metadata": {},
     "output_type": "execute_result"
    }
   ],
   "source": [
    "pos_interes = ['106', '107', '110', '111', '114', '117', '121', '126', '129', '352', '242', '253', '221', '231', '225', '229', '383',\n",
    "               '385', '427', '398', '386', '231', '235', '237', '242', '421', '425', '427', '432', '200', '196', '185', '138', '199', '139']\n",
    "cm = pd.read_csv(path+file_conformational_dependent, sep='\\t')\n",
    "cm = cm[cm['Model'].str.contains('6')]\n",
    "cm[['Chain','Position','','Residue']] = cm['Node'].str.split(':', n=4, expand=True)\n",
    "cm[cm['Position'].isin(pos_interes)]['Position'].drop_duplicates()"
   ]
  },
  {
   "cell_type": "code",
   "execution_count": 23,
   "id": "d68f95c7",
   "metadata": {},
   "outputs": [
    {
     "data": {
      "text/html": [
       "<div>\n",
       "<style scoped>\n",
       "    .dataframe tbody tr th:only-of-type {\n",
       "        vertical-align: middle;\n",
       "    }\n",
       "\n",
       "    .dataframe tbody tr th {\n",
       "        vertical-align: top;\n",
       "    }\n",
       "\n",
       "    .dataframe thead th {\n",
       "        text-align: right;\n",
       "    }\n",
       "</style>\n",
       "<table border=\"1\" class=\"dataframe\">\n",
       "  <thead>\n",
       "    <tr style=\"text-align: right;\">\n",
       "      <th></th>\n",
       "      <th>Source</th>\n",
       "      <th>Interaction</th>\n",
       "      <th>Target</th>\n",
       "      <th>Probability</th>\n",
       "      <th>Chain_Source</th>\n",
       "      <th>Position_Source</th>\n",
       "      <th>Residue_Source</th>\n",
       "      <th>Chain_Target</th>\n",
       "      <th>Position_Target</th>\n",
       "      <th>Residue_Target</th>\n",
       "    </tr>\n",
       "  </thead>\n",
       "  <tbody>\n",
       "    <tr>\n",
       "      <th>273</th>\n",
       "      <td>X/106/PHE</td>\n",
       "      <td>HBOND</td>\n",
       "      <td>X/110/LYS</td>\n",
       "      <td>0.500000</td>\n",
       "      <td>X</td>\n",
       "      <td>106</td>\n",
       "      <td>PHE</td>\n",
       "      <td>X</td>\n",
       "      <td>110</td>\n",
       "      <td>LYS</td>\n",
       "    </tr>\n",
       "    <tr>\n",
       "      <th>274</th>\n",
       "      <td>X/106/PHE</td>\n",
       "      <td>VDW</td>\n",
       "      <td>X/110/LYS</td>\n",
       "      <td>0.166667</td>\n",
       "      <td>X</td>\n",
       "      <td>106</td>\n",
       "      <td>PHE</td>\n",
       "      <td>X</td>\n",
       "      <td>110</td>\n",
       "      <td>LYS</td>\n",
       "    </tr>\n",
       "    <tr>\n",
       "      <th>275</th>\n",
       "      <td>X/106/PHE</td>\n",
       "      <td>VDW</td>\n",
       "      <td>X/109/ARG</td>\n",
       "      <td>0.166667</td>\n",
       "      <td>X</td>\n",
       "      <td>106</td>\n",
       "      <td>PHE</td>\n",
       "      <td>X</td>\n",
       "      <td>109</td>\n",
       "      <td>ARG</td>\n",
       "    </tr>\n",
       "    <tr>\n",
       "      <th>276</th>\n",
       "      <td>X/107/ARG</td>\n",
       "      <td>HBOND</td>\n",
       "      <td>X/111/VAL</td>\n",
       "      <td>0.500000</td>\n",
       "      <td>X</td>\n",
       "      <td>107</td>\n",
       "      <td>ARG</td>\n",
       "      <td>X</td>\n",
       "      <td>111</td>\n",
       "      <td>VAL</td>\n",
       "    </tr>\n",
       "    <tr>\n",
       "      <th>277</th>\n",
       "      <td>X/107/ARG</td>\n",
       "      <td>HBOND</td>\n",
       "      <td>X/110/LYS</td>\n",
       "      <td>0.166667</td>\n",
       "      <td>X</td>\n",
       "      <td>107</td>\n",
       "      <td>ARG</td>\n",
       "      <td>X</td>\n",
       "      <td>110</td>\n",
       "      <td>LYS</td>\n",
       "    </tr>\n",
       "    <tr>\n",
       "      <th>...</th>\n",
       "      <td>...</td>\n",
       "      <td>...</td>\n",
       "      <td>...</td>\n",
       "      <td>...</td>\n",
       "      <td>...</td>\n",
       "      <td>...</td>\n",
       "      <td>...</td>\n",
       "      <td>...</td>\n",
       "      <td>...</td>\n",
       "      <td>...</td>\n",
       "    </tr>\n",
       "    <tr>\n",
       "      <th>1453</th>\n",
       "      <td>X/421/ASP</td>\n",
       "      <td>VDW</td>\n",
       "      <td>X/427/GLU</td>\n",
       "      <td>0.166667</td>\n",
       "      <td>X</td>\n",
       "      <td>421</td>\n",
       "      <td>ASP</td>\n",
       "      <td>X</td>\n",
       "      <td>427</td>\n",
       "      <td>GLU</td>\n",
       "    </tr>\n",
       "    <tr>\n",
       "      <th>1471</th>\n",
       "      <td>X/432/GLU</td>\n",
       "      <td>HBOND</td>\n",
       "      <td>X/435/SER</td>\n",
       "      <td>0.166667</td>\n",
       "      <td>X</td>\n",
       "      <td>432</td>\n",
       "      <td>GLU</td>\n",
       "      <td>X</td>\n",
       "      <td>435</td>\n",
       "      <td>SER</td>\n",
       "    </tr>\n",
       "    <tr>\n",
       "      <th>1472</th>\n",
       "      <td>X/432/GLU</td>\n",
       "      <td>HBOND</td>\n",
       "      <td>X/436/ILE</td>\n",
       "      <td>0.833333</td>\n",
       "      <td>X</td>\n",
       "      <td>432</td>\n",
       "      <td>GLU</td>\n",
       "      <td>X</td>\n",
       "      <td>436</td>\n",
       "      <td>ILE</td>\n",
       "    </tr>\n",
       "    <tr>\n",
       "      <th>1473</th>\n",
       "      <td>X/432/GLU</td>\n",
       "      <td>VDW</td>\n",
       "      <td>X/435/SER</td>\n",
       "      <td>0.500000</td>\n",
       "      <td>X</td>\n",
       "      <td>432</td>\n",
       "      <td>GLU</td>\n",
       "      <td>X</td>\n",
       "      <td>435</td>\n",
       "      <td>SER</td>\n",
       "    </tr>\n",
       "    <tr>\n",
       "      <th>1474</th>\n",
       "      <td>X/432/GLU</td>\n",
       "      <td>VDW</td>\n",
       "      <td>X/436/ILE</td>\n",
       "      <td>0.500000</td>\n",
       "      <td>X</td>\n",
       "      <td>432</td>\n",
       "      <td>GLU</td>\n",
       "      <td>X</td>\n",
       "      <td>436</td>\n",
       "      <td>ILE</td>\n",
       "    </tr>\n",
       "  </tbody>\n",
       "</table>\n",
       "<p>115 rows × 10 columns</p>\n",
       "</div>"
      ],
      "text/plain": [
       "         Source Interaction     Target  Probability Chain_Source  \\\n",
       "273   X/106/PHE       HBOND  X/110/LYS     0.500000            X   \n",
       "274   X/106/PHE         VDW  X/110/LYS     0.166667            X   \n",
       "275   X/106/PHE         VDW  X/109/ARG     0.166667            X   \n",
       "276   X/107/ARG       HBOND  X/111/VAL     0.500000            X   \n",
       "277   X/107/ARG       HBOND  X/110/LYS     0.166667            X   \n",
       "...         ...         ...        ...          ...          ...   \n",
       "1453  X/421/ASP         VDW  X/427/GLU     0.166667            X   \n",
       "1471  X/432/GLU       HBOND  X/435/SER     0.166667            X   \n",
       "1472  X/432/GLU       HBOND  X/436/ILE     0.833333            X   \n",
       "1473  X/432/GLU         VDW  X/435/SER     0.500000            X   \n",
       "1474  X/432/GLU         VDW  X/436/ILE     0.500000            X   \n",
       "\n",
       "     Position_Source Residue_Source Chain_Target Position_Target  \\\n",
       "273              106            PHE            X             110   \n",
       "274              106            PHE            X             110   \n",
       "275              106            PHE            X             109   \n",
       "276              107            ARG            X             111   \n",
       "277              107            ARG            X             110   \n",
       "...              ...            ...          ...             ...   \n",
       "1453             421            ASP            X             427   \n",
       "1471             432            GLU            X             435   \n",
       "1472             432            GLU            X             436   \n",
       "1473             432            GLU            X             435   \n",
       "1474             432            GLU            X             436   \n",
       "\n",
       "     Residue_Target  \n",
       "273             LYS  \n",
       "274             LYS  \n",
       "275             ARG  \n",
       "276             VAL  \n",
       "277             LYS  \n",
       "...             ...  \n",
       "1453            GLU  \n",
       "1471            SER  \n",
       "1472            ILE  \n",
       "1473            SER  \n",
       "1474            ILE  \n",
       "\n",
       "[115 rows x 10 columns]"
      ]
     },
     "execution_count": 23,
     "metadata": {},
     "output_type": "execute_result"
    }
   ],
   "source": [
    "contacts = pd.read_csv(path+file_contacts, sep='\\t')\n",
    "contacts[['Chain_Source','Position_Source','Residue_Source']] = contacts['Source'].str.split('/', n=3, expand=True)\n",
    "contacts[['Chain_Target','Position_Target','Residue_Target']] = contacts['Target'].str.split('/', n=3, expand=True)\n",
    "contacts[contacts['Position_Source'].isin(pos_interes)]"
   ]
  },
  {
   "cell_type": "code",
   "execution_count": 7,
   "id": "10f50ed5",
   "metadata": {},
   "outputs": [
    {
     "data": {
      "text/plain": [
       "array(['VDW', 'HBOND', 'PIPISTACK', 'PICATION', 'IONIC', 'PIHBOND'],\n",
       "      dtype=object)"
      ]
     },
     "execution_count": 7,
     "metadata": {},
     "output_type": "execute_result"
    }
   ],
   "source": [
    "contacts['Interaction'].unique()"
   ]
  },
  {
   "cell_type": "markdown",
   "id": "d551bf3e",
   "metadata": {},
   "source": [
    "### Calculating the pairwise RMSD of a trajectory"
   ]
  },
  {
   "cell_type": "markdown",
   "id": "5ea13995",
   "metadata": {},
   "source": [
    "#### RMSD to itself"
   ]
  },
  {
   "cell_type": "code",
   "execution_count": 19,
   "id": "a7077230",
   "metadata": {},
   "outputs": [],
   "source": [
    "traj_path = '/home/lean/Documentos/Lean/Andrea/datos neutralizantes/Ac-Ag/nanonet_3.2/ac_ag_3.2/'\n",
    "# traj_0CA = mda.Universe(traj_path + 'md_0_1.gro',traj_path + 'md_0_1.xtc')\n",
    "traj_0CA = mda.Universe(traj_path + 'md_aligned_32AG.pdb')\n",
    "\n",
    "# Construir la selección basada en el rango de números de átomo\n",
    "# selection = f\"all and (bynum {3669}:{13073})\"\n",
    "\n",
    "# Aplicar la selección y obtener un objeto AtomGroup\n",
    "# protein = traj_0CA.select_atoms(selection)\n",
    "# traj_3CA = mda.Universe(traj_path + '4nsc_A_0.15CA_30ns_gromacs/md.gro',traj_path + '4nsc_A_0.15CA_30ns_gromacs/md.xtc')"
   ]
  },
  {
   "cell_type": "code",
   "execution_count": 35,
   "id": "95d3b23a",
   "metadata": {},
   "outputs": [],
   "source": [
    "# Crear una lista para almacenar las coordenadas de los átomos en cada paso de tiempo\n",
    "trajectory_coordinates = []\n",
    "\n",
    "# Iterar sobre los frames de la trayectoria y guardar las coordenadas de los átomos seleccionados\n",
    "for ts in traj_0CA.trajectory:\n",
    "    # Actualizar las coordenadas de la selección en cada frame\n",
    "    protein.positions = traj_0CA.atoms.positions[protein.indices]\n",
    "    # Guardar las coordenadas de la selección en la lista\n",
    "    trajectory_coordinates.append(protein.positions.copy())\n",
    "\n",
    "# Convertir la lista de coordenadas en un objeto AtomGroup\n",
    "trajectory_atoms = mda.Merge(protein.atoms)\n",
    "\n",
    "# Asignar las coordenadas de la trayectoria a la variable AtomGroup\n",
    "trajectory_atoms.positions = trajectory_coordinates"
   ]
  },
  {
   "cell_type": "code",
   "execution_count": 39,
   "id": "7f24294b",
   "metadata": {},
   "outputs": [
    {
     "ename": "AttributeError",
     "evalue": "AtomGroup has no attribute trajectory. ",
     "output_type": "error",
     "traceback": [
      "\u001b[0;31m---------------------------------------------------------------------------\u001b[0m",
      "\u001b[0;31mAttributeError\u001b[0m                            Traceback (most recent call last)",
      "\u001b[0;32m<ipython-input-39-2b95b4b781df>\u001b[0m in \u001b[0;36m<module>\u001b[0;34m\u001b[0m\n\u001b[1;32m      2\u001b[0m \u001b[0mref\u001b[0m \u001b[0;34m=\u001b[0m \u001b[0mprotein\u001b[0m\u001b[0;34m\u001b[0m\u001b[0;34m\u001b[0m\u001b[0m\n\u001b[1;32m      3\u001b[0m \u001b[0;34m\u001b[0m\u001b[0m\n\u001b[0;32m----> 4\u001b[0;31m \u001b[0mmobile\u001b[0m\u001b[0;34m.\u001b[0m\u001b[0mtrajectory\u001b[0m\u001b[0;34m[\u001b[0m\u001b[0;34m-\u001b[0m\u001b[0;36m1\u001b[0m\u001b[0;34m]\u001b[0m  \u001b[0;31m# set mobile trajectory to last frame\u001b[0m\u001b[0;34m\u001b[0m\u001b[0;34m\u001b[0m\u001b[0m\n\u001b[0m\u001b[1;32m      5\u001b[0m \u001b[0mref\u001b[0m\u001b[0;34m.\u001b[0m\u001b[0mtrajectory\u001b[0m\u001b[0;34m[\u001b[0m\u001b[0;36m0\u001b[0m\u001b[0;34m]\u001b[0m  \u001b[0;31m# set reference trajectory to first frame\u001b[0m\u001b[0;34m\u001b[0m\u001b[0;34m\u001b[0m\u001b[0m\n\u001b[1;32m      6\u001b[0m \u001b[0;34m\u001b[0m\u001b[0m\n",
      "\u001b[0;32m~/anaconda3/lib/python3.9/site-packages/MDAnalysis/core/groups.py\u001b[0m in \u001b[0;36m__getattr__\u001b[0;34m(self, attr)\u001b[0m\n\u001b[1;32m   2535\u001b[0m         \u001b[0;32melif\u001b[0m \u001b[0mattr\u001b[0m \u001b[0;34m==\u001b[0m \u001b[0;34m'positions'\u001b[0m\u001b[0;34m:\u001b[0m\u001b[0;34m\u001b[0m\u001b[0;34m\u001b[0m\u001b[0m\n\u001b[1;32m   2536\u001b[0m             \u001b[0;32mraise\u001b[0m \u001b[0mNoDataError\u001b[0m\u001b[0;34m(\u001b[0m\u001b[0;34m'This Universe has no coordinates'\u001b[0m\u001b[0;34m)\u001b[0m\u001b[0;34m\u001b[0m\u001b[0;34m\u001b[0m\u001b[0m\n\u001b[0;32m-> 2537\u001b[0;31m         \u001b[0;32mreturn\u001b[0m \u001b[0msuper\u001b[0m\u001b[0;34m(\u001b[0m\u001b[0mAtomGroup\u001b[0m\u001b[0;34m,\u001b[0m \u001b[0mself\u001b[0m\u001b[0;34m)\u001b[0m\u001b[0;34m.\u001b[0m\u001b[0m__getattr__\u001b[0m\u001b[0;34m(\u001b[0m\u001b[0mattr\u001b[0m\u001b[0;34m)\u001b[0m\u001b[0;34m\u001b[0m\u001b[0;34m\u001b[0m\u001b[0m\n\u001b[0m\u001b[1;32m   2538\u001b[0m \u001b[0;34m\u001b[0m\u001b[0m\n\u001b[1;32m   2539\u001b[0m     \u001b[0;34m@\u001b[0m\u001b[0mproperty\u001b[0m\u001b[0;34m\u001b[0m\u001b[0;34m\u001b[0m\u001b[0m\n",
      "\u001b[0;32m~/anaconda3/lib/python3.9/site-packages/MDAnalysis/core/groups.py\u001b[0m in \u001b[0;36m__getattr__\u001b[0;34m(self, attr)\u001b[0m\n\u001b[1;32m    609\u001b[0m                 \u001b[0;32mraise\u001b[0m \u001b[0mNoDataError\u001b[0m\u001b[0;34m(\u001b[0m\u001b[0merr\u001b[0m\u001b[0;34m.\u001b[0m\u001b[0mformat\u001b[0m\u001b[0;34m(\u001b[0m\u001b[0msingular\u001b[0m\u001b[0;34m=\u001b[0m\u001b[0mcls\u001b[0m\u001b[0;34m.\u001b[0m\u001b[0msingular\u001b[0m\u001b[0;34m)\u001b[0m\u001b[0;34m)\u001b[0m\u001b[0;34m\u001b[0m\u001b[0;34m\u001b[0m\u001b[0m\n\u001b[1;32m    610\u001b[0m         \u001b[0;32melse\u001b[0m\u001b[0;34m:\u001b[0m\u001b[0;34m\u001b[0m\u001b[0;34m\u001b[0m\u001b[0m\n\u001b[0;32m--> 611\u001b[0;31m             \u001b[0;32mreturn\u001b[0m \u001b[0msuper\u001b[0m\u001b[0;34m(\u001b[0m\u001b[0mGroupBase\u001b[0m\u001b[0;34m,\u001b[0m \u001b[0mself\u001b[0m\u001b[0;34m)\u001b[0m\u001b[0;34m.\u001b[0m\u001b[0m__getattr__\u001b[0m\u001b[0;34m(\u001b[0m\u001b[0mattr\u001b[0m\u001b[0;34m)\u001b[0m\u001b[0;34m\u001b[0m\u001b[0;34m\u001b[0m\u001b[0m\n\u001b[0m\u001b[1;32m    612\u001b[0m \u001b[0;34m\u001b[0m\u001b[0m\n\u001b[1;32m    613\u001b[0m     \u001b[0;32mdef\u001b[0m \u001b[0m__repr__\u001b[0m\u001b[0;34m(\u001b[0m\u001b[0mself\u001b[0m\u001b[0;34m)\u001b[0m\u001b[0;34m:\u001b[0m\u001b[0;34m\u001b[0m\u001b[0;34m\u001b[0m\u001b[0m\n",
      "\u001b[0;32m~/anaconda3/lib/python3.9/site-packages/MDAnalysis/core/groups.py\u001b[0m in \u001b[0;36m__getattr__\u001b[0;34m(self, attr)\u001b[0m\n\u001b[1;32m    385\u001b[0m                 \u001b[0mmatch\u001b[0m \u001b[0;34m=\u001b[0m \u001b[0m_TOPOLOGY_ATTRNAMES\u001b[0m\u001b[0;34m[\u001b[0m\u001b[0mclean\u001b[0m\u001b[0;34m]\u001b[0m\u001b[0;34m\u001b[0m\u001b[0;34m\u001b[0m\u001b[0m\n\u001b[1;32m    386\u001b[0m                 \u001b[0merr\u001b[0m \u001b[0;34m+=\u001b[0m \u001b[0;34m'Did you mean {match}?'\u001b[0m\u001b[0;34m.\u001b[0m\u001b[0mformat\u001b[0m\u001b[0;34m(\u001b[0m\u001b[0mmatch\u001b[0m\u001b[0;34m=\u001b[0m\u001b[0mmatch\u001b[0m\u001b[0;34m)\u001b[0m\u001b[0;34m\u001b[0m\u001b[0;34m\u001b[0m\u001b[0m\n\u001b[0;32m--> 387\u001b[0;31m             \u001b[0;32mraise\u001b[0m \u001b[0mAttributeError\u001b[0m\u001b[0;34m(\u001b[0m\u001b[0merr\u001b[0m\u001b[0;34m)\u001b[0m\u001b[0;34m\u001b[0m\u001b[0;34m\u001b[0m\u001b[0m\n\u001b[0m\u001b[1;32m    388\u001b[0m \u001b[0;34m\u001b[0m\u001b[0m\n\u001b[1;32m    389\u001b[0m     \u001b[0;32mdef\u001b[0m \u001b[0mget_connections\u001b[0m\u001b[0;34m(\u001b[0m\u001b[0mself\u001b[0m\u001b[0;34m,\u001b[0m \u001b[0mtypename\u001b[0m\u001b[0;34m,\u001b[0m \u001b[0moutside\u001b[0m\u001b[0;34m=\u001b[0m\u001b[0;32mTrue\u001b[0m\u001b[0;34m)\u001b[0m\u001b[0;34m:\u001b[0m\u001b[0;34m\u001b[0m\u001b[0;34m\u001b[0m\u001b[0m\n",
      "\u001b[0;31mAttributeError\u001b[0m: AtomGroup has no attribute trajectory. "
     ]
    }
   ],
   "source": [
    "mobile = trajectory_atoms\n",
    "ref = trajectory_atoms\n",
    "\n",
    "mobile.trajectory[-1]  # set mobile trajectory to last frame\n",
    "ref.trajectory[0]  # set reference trajectory to first frame\n",
    "\n",
    "mobile_ca = mobile.select_atoms('name CA')\n",
    "ref_ca = ref.select_atoms('name CA')\n",
    "unaligned_rmsd = rms.rmsd(mobile_ca.positions, ref_ca.positions, superposition=False)\n",
    "print(f\"Unaligned RMSD: {unaligned_rmsd:.2f}\")\n",
    "\n",
    "aligner = align.AlignTraj(mobile, ref, select='name CA', in_memory=True).run()\n",
    "\n",
    "mobile.trajectory[-1]  # set mobile trajectory to last frame\n",
    "ref.trajectory[0]  # set reference trajectory to first frame\n",
    "\n",
    "mobile_ca = mobile.select_atoms('name CA')\n",
    "ref_ca = ref.select_atoms('name CA')\n",
    "aligned_rmsd = rms.rmsd(mobile_ca.positions, ref_ca.positions, superposition=False)\n",
    "\n",
    "print(f\"Aligned RMSD: {aligned_rmsd:.2f}\")"
   ]
  },
  {
   "cell_type": "code",
   "execution_count": null,
   "id": "1c632b80",
   "metadata": {},
   "outputs": [],
   "source": [
    "matrix = diffusionmap.DistanceMatrix(mobile_ca, select='name CA').run()"
   ]
  },
  {
   "cell_type": "code",
   "execution_count": null,
   "id": "c32a4b99-b8c7-4bcb-be1f-4a4a3a30311f",
   "metadata": {},
   "outputs": [],
   "source": [
    "a = matrix.results.dist_matrix\n",
    "ind = np.unravel_index(np.argmax(a, axis=None), a.shape) \n",
    "print(matrix.results.dist_matrix.max(),ind)"
   ]
  },
  {
   "cell_type": "code",
   "execution_count": null,
   "id": "8a423c33",
   "metadata": {},
   "outputs": [],
   "source": [
    "plt.imshow(matrix.results.dist_matrix, cmap='viridis')\n",
    "plt.xlabel('Frame')\n",
    "plt.ylabel('Frame')\n",
    "plt.colorbar(label=r'RMSD ($\\AA$)')"
   ]
  },
  {
   "cell_type": "markdown",
   "id": "3a5a16b4",
   "metadata": {},
   "source": [
    "#### RMSD two trajectories "
   ]
  },
  {
   "cell_type": "code",
   "execution_count": null,
   "id": "53c29be5",
   "metadata": {},
   "outputs": [],
   "source": [
    "prmsd = np.zeros((len(traj_0CA.trajectory),  # y-axis\n",
    "                  len(traj_3CA.trajectory)))  # x-axis"
   ]
  },
  {
   "cell_type": "code",
   "execution_count": null,
   "id": "bf2a0906",
   "metadata": {},
   "outputs": [],
   "source": [
    "for i, frame_open in enumerate(traj_3CA.trajectory):\n",
    "    r = rms.RMSD(traj_0CA, traj_3CA, select='name C',\n",
    "                 ref_frame=i).run()\n",
    "    prmsd[i] = r.results.rmsd[:, -1]  # select 3rd column with RMSD values"
   ]
  },
  {
   "cell_type": "code",
   "execution_count": null,
   "id": "f0a02bb4",
   "metadata": {},
   "outputs": [],
   "source": [
    "plt.imshow(prmsd, cmap='viridis')\n",
    "plt.xlabel('Frame (traj_0CA)')\n",
    "plt.ylabel('Frame (traj_3CA)')\n",
    "plt.colorbar(label=r'RMSD ($\\AA$)')"
   ]
  },
  {
   "cell_type": "markdown",
   "id": "ef3c3652",
   "metadata": {},
   "source": [
    "### Calculating RMSF"
   ]
  },
  {
   "cell_type": "code",
   "execution_count": 20,
   "id": "3f73abb5",
   "metadata": {},
   "outputs": [],
   "source": [
    "# c_alphas = mobile.select_atoms('protein and name CA')\n",
    "# R = rms.RMSF(c_alphas).run()\n",
    "c2_alphas = traj_0CA.select_atoms('name CA')\n",
    "R2 = rms.RMSF(c2_alphas).run()"
   ]
  },
  {
   "cell_type": "code",
   "execution_count": 21,
   "id": "6af989c7",
   "metadata": {
    "scrolled": false
   },
   "outputs": [
    {
     "name": "stderr",
     "output_type": "stream",
     "text": [
      "No artists with labels found to put in legend.  Note that artists whose label start with an underscore are ignored when legend() is called with no argument.\n"
     ]
    },
    {
     "data": {
      "image/png": "[encoded data removed]",
      "text/plain": [
       "<Figure size 432x288 with 1 Axes>"
      ]
     },
     "metadata": {
      "needs_background": "light"
     },
     "output_type": "display_data"
    }
   ],
   "source": [
    "# plt.plot(c_alphas.resids, R.results.rmsf, 'g')\n",
    "plt.plot(c2_alphas.resids, R2.results.rmsf, 'r')\n",
    "\n",
    "\n",
    "path = '/home/lean/Documentos/Lean/Andrea/datos neutralizantes/Ac-Ag/'\n",
    "plt.xlabel('Número de residuo')\n",
    "plt.ylabel('RMSF ($\\AA$)')\n",
    "# plt.axvspan(96, 109,zorder=0, alpha=0.3, color='orange', label='CDR3')\n",
    "# plt.axvspan(51, 57, zorder=0, alpha=0.3, color='green', label='CDR2')\n",
    "# plt.axvspan(26, 33, zorder=0, alpha=0.3, color='blue', label='CDR1')\n",
    "plt.ylim(0, 3)\n",
    "plt.legend()\n",
    "plt.savefig(path + 'RMSF_ag(3.2).png')"
   ]
  },
  {
   "cell_type": "code",
   "execution_count": null,
   "id": "636be305",
   "metadata": {},
   "outputs": [],
   "source": [
    "import datetime\n",
    "\n",
    "fecha_str = \"2024-05-09 21:21:26\"\n",
    "fecha = \"2024-05-10 03:00:02\"\n",
    "diff = datetime.datetime.strptime(fecha, \"%Y-%m-%d  %H:%M:%S\") - datetime.datetime.strptime(fecha_str, \"%Y-%m-%d  %H:%M:%S\")\n",
    "diff.total_seconds()/3600"
   ]
  },
  {
   "cell_type": "markdown",
   "id": "03c72a5a",
   "metadata": {},
   "source": [
    "## Calculating SASA"
   ]
  },
  {
   "cell_type": "code",
   "execution_count": null,
   "id": "55dfab14",
   "metadata": {},
   "outputs": [],
   "source": [
    "from __future__ import print_function\n",
    "%matplotlib inline\n",
    "import numpy as np\n",
    "import mdtraj as md"
   ]
  },
  {
   "cell_type": "code",
   "execution_count": null,
   "id": "91f5d645",
   "metadata": {},
   "outputs": [],
   "source": [
    "import freesasa\n",
    "\n",
    "freesasa.h.trajectory"
   ]
  },
  {
   "cell_type": "code",
   "execution_count": null,
   "id": "9c375816",
   "metadata": {},
   "outputs": [],
   "source": [
    "trajectory = md.load('/home/lean/Documentos/Lean/SBG/Base_de_calcio/DiversidadConformacionalCBS/MCU/molecular dynamic/pdb_from_traj/pares max/4nsc_A_0.15NA_30ns_frame2790.pdb')\n",
    "sasa = md.shrake_rupley(trajectory)\n",
    "\n",
    "print(trajectory)\n",
    "print('sasa data shape', sasa.shape)"
   ]
  },
  {
   "cell_type": "code",
   "execution_count": null,
   "id": "053a2f0d",
   "metadata": {},
   "outputs": [],
   "source": [
    "total_sasa = sasa.sum(axis=1)\n",
    "print(total_sasa)"
   ]
  },
  {
   "cell_type": "code",
   "execution_count": null,
   "id": "9bf6397e",
   "metadata": {},
   "outputs": [],
   "source": [
    "sasa"
   ]
  },
  {
   "cell_type": "code",
   "execution_count": null,
   "id": "7d852acb",
   "metadata": {},
   "outputs": [],
   "source": [
    "from matplotlib.pylab import *\n",
    "\n",
    "plot(trajectory.time, total_sasa)\n",
    "xlabel('Time [ps]', size=16)\n",
    "ylabel('Total SASA (nm)^2', size=16)\n",
    "show()"
   ]
  },
  {
   "cell_type": "code",
   "execution_count": null,
   "id": "902b7da6",
   "metadata": {},
   "outputs": [],
   "source": [
    "def autocorr(x):\n",
    "    \"Compute an autocorrelation with numpy\"\n",
    "    x = x - np.mean(x)\n",
    "    result = np.correlate(x, x, mode='full')\n",
    "    result = result[result.size//2:]\n",
    "    return result / result[0]\n",
    "\n",
    "semilogx(trajectory.time, autocorr(total_sasa))\n",
    "xlabel('Time [ps]', size=16)\n",
    "ylabel('SASA autocorrelation', size=16)\n",
    "show()"
   ]
  },
  {
   "cell_type": "markdown",
   "id": "bc0706a1",
   "metadata": {},
   "source": [
    "### Read energy data"
   ]
  },
  {
   "cell_type": "code",
   "execution_count": null,
   "id": "798974a6",
   "metadata": {},
   "outputs": [],
   "source": [
    "import MDAnalysis as mda\n",
    "import numpy as np\n",
    "import matplotlib.pyplot as plt\n",
    "\n",
    "# Ruta al archivo ener.edr\n",
    "ener_file = '/home/lean/Documentos/Lean/SBG/Base_de_calcio/DiversidadConformacionalCBS/MCU/molecular dynamic/4nsd_A_3CA_gromacs/md_0_1.edr'\n",
    "\n",
    "# Crear el objeto Energy\n",
    "ener = mda.auxiliary.EDR.EDRReader(ener_file)\n",
    "\n",
    "print(ener.terms)\n",
    "# Obtener las energías de la simulación\n",
    "some_terms = ener.get_data([\"Potential\", \"Kinetic En.\", \"Box-X\",\"Coul-SR:Protein-CA\"])\n",
    "plt.plot(some_terms[\"Time\"], some_terms[\"Coul-SR:Protein-CA\"])"
   ]
  },
  {
   "cell_type": "markdown",
   "id": "027d5fd9",
   "metadata": {},
   "source": [
    "### Trajectory to pdb"
   ]
  },
  {
   "cell_type": "code",
   "execution_count": 5,
   "id": "1c5b82f9",
   "metadata": {},
   "outputs": [
    {
     "name": "stderr",
     "output_type": "stream",
     "text": [
      "/home/lean/anaconda3/lib/python3.9/site-packages/MDAnalysis/coordinates/PDB.py:1176: UserWarning: Found missing chainIDs. Corresponding atoms will use value of 'X'\n",
      "  warnings.warn(\"Found missing chainIDs.\"\n"
     ]
    }
   ],
   "source": [
    "path_Na = '/home/lean/Documentos/Lean/SBG/Base_de_calcio/DiversidadConformacionalCBS/MCU/molecular dynamic/'\n",
    "u = mda.Universe(path_Na + '4nsc_A_0.15NA_30ns_gromacs/md.gro', path_Na + '4nsc_A_0.15NA_30ns_gromacs/md.xtc')\n",
    "pdb = mda.coordinates.PDB.PDBWriter(path_Na + \"4nscNA_500frames.pdb\", u, start=1, step=500)\n",
    "pdb.write_all_timesteps(u)"
   ]
  },
  {
   "cell_type": "markdown",
   "id": "8e460f4b",
   "metadata": {},
   "source": [
    "### RMSF of PDB"
   ]
  },
  {
   "cell_type": "code",
   "execution_count": null,
   "id": "4e1120d5",
   "metadata": {},
   "outputs": [],
   "source": [
    "import MDAnalysis as mda\n",
    "import numpy as np\n",
    "import os\n",
    "import matplotlib.pyplot as plt\n",
    "\n",
    "path = '/home/lean/Documentos/Lean/Andrea/'\n",
    "# Cargar las dos estructuras PDB\n",
    "for andrea_ac in os.listdir(path + '7.5_model/'):\n",
    "    if '5o04' in andrea_ac:\n",
    "        print(andrea_ac)\n",
    "        u1 = mda.Universe(path + '7.5_model/' + andrea_ac)\n",
    "        for hassman_ac in os.listdir(path + 'nano85/'):\n",
    "            if '5o04' in hassman_ac:\n",
    "                print(hassman_ac)\n",
    "                u2 = mda.Universe(path + 'nano85/' + hassman_ac)\n",
    "                \n",
    "                # Seleccionar el grupo de átomos de interés (ajusta según tu sistema)\n",
    "                seleccion = u1.select_atoms(\"protein and name CA\")\n",
    "\n",
    "                # Obtener las coordenadas de ambas estructuras\n",
    "                coord1 = u1.select_atoms(\"protein and name CA\").positions[:117]\n",
    "                coord2 = u2.select_atoms(\"protein and name CA\").positions[:117]\n",
    "\n",
    "                # Calcular la diferencia RMSF\n",
    "                rmsf_diff = np.sqrt(np.mean(np.square(coord1 - coord2), axis=1))\n",
    "\n",
    "                # Graficar la diferencia RMSF\n",
    "                plt.plot(seleccion.residues.resids[:117], rmsf_diff, label='Diferencia RMSF')\n",
    "                plt.xlabel('Residuo')\n",
    "                plt.ylabel('Diferencia RMSF (Å)')\n",
    "                plt.legend()\n",
    "                plt.show()"
   ]
  },
  {
   "cell_type": "code",
   "execution_count": null,
   "id": "e53ae287",
   "metadata": {},
   "outputs": [],
   "source": [
    "import MDAnalysis as mda\n",
    "import numpy as np\n",
    "import os\n",
    "import matplotlib.pyplot as plt\n",
    "\n",
    "path = '/home/lean/Documentos/Lean/glucogenosis/G6P/'\n",
    "# Cargar las dos estructuras PDB\n",
    "for andrea_ac in os.listdir(path):\n",
    "    if 'G6Phuman-WTmodel' in andrea_ac:\n",
    "        print(andrea_ac)\n",
    "        u1 = mda.Universe(path + andrea_ac)\n",
    "        for hassman_ac in os.listdir(path):\n",
    "            if 'G6Phuman-T16Rmodel' in hassman_ac:\n",
    "                print(hassman_ac)\n",
    "                u2 = mda.Universe(path + hassman_ac)\n",
    "                \n",
    "                # Seleccionar el grupo de átomos de interés (ajusta según tu sistema)\n",
    "                seleccion = u1.select_atoms(\"protein and name CA\")\n",
    "\n",
    "                # Obtener las coordenadas de ambas estructuras\n",
    "                coord1 = u1.select_atoms(\"protein and name CA\").positions[:117]\n",
    "                coord2 = u2.select_atoms(\"protein and name CA\").positions[:117]\n",
    "\n",
    "                # Calcular la diferencia RMSF\n",
    "                rmsf_diff = np.sqrt(np.mean(np.square(coord1 - coord2), axis=1))\n",
    "\n",
    "                # Graficar la diferencia RMSF\n",
    "                plt.plot(seleccion.residues.resids[:117], rmsf_diff, label='Diferencia RMSF')\n",
    "                plt.xlabel('Residuo')\n",
    "                plt.ylabel('Diferencia RMSF (Å)')\n",
    "                plt.legend()\n",
    "                plt.show()"
   ]
  },
  {
   "cell_type": "code",
   "execution_count": null,
   "id": "32b26e96",
   "metadata": {},
   "outputs": [],
   "source": [
    "rmsf_diff[15]"
   ]
  },
  {
   "cell_type": "code",
   "execution_count": null,
   "id": "c06c87c3",
   "metadata": {},
   "outputs": [],
   "source": [
    "from Bio.PDB.Chain import Chain\n",
    "from Bio.PDB.PDBParser import PDBParser\n",
    "import warnings\n",
    "warnings. filterwarnings('ignore')\n",
    "\n",
    "path='/home/lean/Documentos/Lean/Andrea/modelo_dimero/'\n",
    "p = PDBParser()\n",
    "structure=p.get_structure('mypdb',path + 'dimero_modelo_frame0.pdb')\n",
    "model=structure[0]\n",
    "my_chain = Chain(\"A\")\n",
    "model.add(my_chain)\n",
    "structure"
   ]
  },
  {
   "cell_type": "code",
   "execution_count": null,
   "id": "28082009",
   "metadata": {},
   "outputs": [],
   "source": []
  }
 ],
 "metadata": {
  "kernelspec": {
   "display_name": "Python 3 (ipykernel)",
   "language": "python",
   "name": "python3"
  },
  "language_info": {
   "codemirror_mode": {
    "name": "ipython",
    "version": 3
   },
   "file_extension": ".py",
   "mimetype": "text/x-python",
   "name": "python",
   "nbconvert_exporter": "python",
   "pygments_lexer": "ipython3",
   "version": "3.9.7"
  }
 },
 "nbformat": 4,
 "nbformat_minor": 5
}
