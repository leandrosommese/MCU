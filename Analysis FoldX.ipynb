{
 "cells": [
  {
   "cell_type": "code",
   "execution_count": 1,
   "id": "f2797d2b",
   "metadata": {},
   "outputs": [],
   "source": [
    "import os\n",
    "import pandas as pd\n",
    "import numpy as np\n",
    "import matplotlib.pyplot as plt\n",
    "%matplotlib inline"
   ]
  },
  {
   "cell_type": "code",
   "execution_count": 32,
   "id": "67e60771",
   "metadata": {},
   "outputs": [],
   "source": [
    "path015 = '/home/lean/Documentos/Lean/SBG/Base_de_calcio/DiversidadConformacionalCBS/MCU/molecular dynamic/frames/CA015/'\n",
    "dict_energy = {}\n",
    "for i in range(0,3000,500):\n",
    "    foldx_file = pd.read_csv(path015 + 'MB_4nscCA_frame' + str(i) + '_align.fxout',sep='\\t',header=None,usecols=[0,1,2])\n",
    "    dict_energy['4nscCA_frame' + str(i)]=(foldx_file[foldx_file[2]<-0.05][2])"
   ]
  },
  {
   "cell_type": "code",
   "execution_count": 33,
   "id": "43fb7d81",
   "metadata": {},
   "outputs": [
    {
     "data": {
      "image/png": "[encoded data removed]",
      "text/plain": [
       "<Figure size 432x288 with 1 Axes>"
      ]
     },
     "metadata": {
      "needs_background": "light"
     },
     "output_type": "display_data"
    }
   ],
   "source": [
    "labels, data = [*zip(*dict_energy.items())]  # 'transpose' items to parallel key, value lists\n",
    "\n",
    "# or backwards compatable    \n",
    "labels, data = dict_energy.keys(), dict_energy.values()\n",
    "\n",
    "plt.boxplot(data)\n",
    "plt.xticks(range(1, len(labels) + 1), labels,rotation=45,ha='right')\n",
    "plt.show()"
   ]
  },
  {
   "cell_type": "code",
   "execution_count": 37,
   "id": "3239b993",
   "metadata": {},
   "outputs": [
    {
     "name": "stdout",
     "output_type": "stream",
     "text": [
      "                                  0       1        2\n",
      "69  ./CA_MB_4nscCA_frame0_align.pdb  CA6610 -2.01297\n",
      "                                     0       1        2\n",
      "47   ./CA_MB_4nscCA_frame500_align.pdb  CA6588 -1.22894\n",
      "49   ./CA_MB_4nscCA_frame500_align.pdb  CA6590 -1.06284\n",
      "50   ./CA_MB_4nscCA_frame500_align.pdb  CA6591 -2.08360\n",
      "64   ./CA_MB_4nscCA_frame500_align.pdb  CA6605 -1.48355\n",
      "69   ./CA_MB_4nscCA_frame500_align.pdb  CA6610 -2.72985\n",
      "87   ./CA_MB_4nscCA_frame500_align.pdb  CA6628 -1.43359\n",
      "94   ./CA_MB_4nscCA_frame500_align.pdb  CA6635 -4.11514\n",
      "108  ./CA_MB_4nscCA_frame500_align.pdb  CA6649 -1.44108\n",
      "112  ./CA_MB_4nscCA_frame500_align.pdb  CA6653 -1.19778\n",
      "124  ./CA_MB_4nscCA_frame500_align.pdb  CA6665 -1.64415\n",
      "130  ./CA_MB_4nscCA_frame500_align.pdb  CA6671 -1.39668\n",
      "134  ./CA_MB_4nscCA_frame500_align.pdb  CA6675 -2.98442\n",
      "                                      0       1        2\n",
      "33   ./CA_MB_4nscCA_frame1000_align.pdb  CA6574 -1.86322\n",
      "49   ./CA_MB_4nscCA_frame1000_align.pdb  CA6590 -2.29876\n",
      "50   ./CA_MB_4nscCA_frame1000_align.pdb  CA6591 -1.90479\n",
      "64   ./CA_MB_4nscCA_frame1000_align.pdb  CA6605 -1.89028\n",
      "69   ./CA_MB_4nscCA_frame1000_align.pdb  CA6610 -2.51312\n",
      "94   ./CA_MB_4nscCA_frame1000_align.pdb  CA6635 -2.80888\n",
      "112  ./CA_MB_4nscCA_frame1000_align.pdb  CA6653 -1.72800\n",
      "114  ./CA_MB_4nscCA_frame1000_align.pdb  CA6655 -1.10964\n",
      "124  ./CA_MB_4nscCA_frame1000_align.pdb  CA6665 -2.89510\n",
      "130  ./CA_MB_4nscCA_frame1000_align.pdb  CA6671 -3.05975\n",
      "134  ./CA_MB_4nscCA_frame1000_align.pdb  CA6675 -1.61161\n",
      "138  ./CA_MB_4nscCA_frame1000_align.pdb  CA6679 -1.52655\n",
      "144  ./CA_MB_4nscCA_frame1000_align.pdb  CA6685 -1.46481\n",
      "                                      0       1        2\n",
      "20   ./CA_MB_4nscCA_frame1500_align.pdb  CA6561 -2.22033\n",
      "47   ./CA_MB_4nscCA_frame1500_align.pdb  CA6588 -2.11599\n",
      "50   ./CA_MB_4nscCA_frame1500_align.pdb  CA6591 -1.96661\n",
      "64   ./CA_MB_4nscCA_frame1500_align.pdb  CA6605 -1.48178\n",
      "93   ./CA_MB_4nscCA_frame1500_align.pdb  CA6634 -2.61926\n",
      "94   ./CA_MB_4nscCA_frame1500_align.pdb  CA6635 -2.49939\n",
      "110  ./CA_MB_4nscCA_frame1500_align.pdb  CA6651 -1.94628\n",
      "112  ./CA_MB_4nscCA_frame1500_align.pdb  CA6653 -1.59668\n",
      "124  ./CA_MB_4nscCA_frame1500_align.pdb  CA6665 -3.05996\n",
      "130  ./CA_MB_4nscCA_frame1500_align.pdb  CA6671 -2.76668\n",
      "134  ./CA_MB_4nscCA_frame1500_align.pdb  CA6675 -2.38760\n",
      "138  ./CA_MB_4nscCA_frame1500_align.pdb  CA6679 -2.64778\n",
      "142  ./CA_MB_4nscCA_frame1500_align.pdb  CA6683 -2.26736\n",
      "144  ./CA_MB_4nscCA_frame1500_align.pdb  CA6685 -2.04587\n",
      "                                      0       1        2\n",
      "1    ./CA_MB_4nscCA_frame2000_align.pdb  CA6542 -2.13712\n",
      "20   ./CA_MB_4nscCA_frame2000_align.pdb  CA6561 -2.64331\n",
      "27   ./CA_MB_4nscCA_frame2000_align.pdb  CA6568 -1.31765\n",
      "47   ./CA_MB_4nscCA_frame2000_align.pdb  CA6588 -1.98306\n",
      "50   ./CA_MB_4nscCA_frame2000_align.pdb  CA6591 -1.78171\n",
      "56   ./CA_MB_4nscCA_frame2000_align.pdb  CA6597 -1.26718\n",
      "76   ./CA_MB_4nscCA_frame2000_align.pdb  CA6617 -1.12538\n",
      "93   ./CA_MB_4nscCA_frame2000_align.pdb  CA6634 -1.67543\n",
      "94   ./CA_MB_4nscCA_frame2000_align.pdb  CA6635 -2.29300\n",
      "112  ./CA_MB_4nscCA_frame2000_align.pdb  CA6653 -1.79561\n",
      "114  ./CA_MB_4nscCA_frame2000_align.pdb  CA6655 -2.10448\n",
      "124  ./CA_MB_4nscCA_frame2000_align.pdb  CA6665 -1.87898\n",
      "130  ./CA_MB_4nscCA_frame2000_align.pdb  CA6671 -2.31857\n",
      "134  ./CA_MB_4nscCA_frame2000_align.pdb  CA6675 -1.54827\n",
      "135  ./CA_MB_4nscCA_frame2000_align.pdb  CA6676 -1.34225\n",
      "142  ./CA_MB_4nscCA_frame2000_align.pdb  CA6683 -2.34843\n",
      "144  ./CA_MB_4nscCA_frame2000_align.pdb  CA6685 -1.19450\n",
      "                                      0       1        2\n",
      "1    ./CA_MB_4nscCA_frame2500_align.pdb  CA6542 -1.06667\n",
      "20   ./CA_MB_4nscCA_frame2500_align.pdb  CA6561 -1.96225\n",
      "50   ./CA_MB_4nscCA_frame2500_align.pdb  CA6591 -1.42994\n",
      "67   ./CA_MB_4nscCA_frame2500_align.pdb  CA6608 -1.49092\n",
      "76   ./CA_MB_4nscCA_frame2500_align.pdb  CA6617 -1.22726\n",
      "94   ./CA_MB_4nscCA_frame2500_align.pdb  CA6635 -3.22210\n",
      "112  ./CA_MB_4nscCA_frame2500_align.pdb  CA6653 -1.45575\n",
      "114  ./CA_MB_4nscCA_frame2500_align.pdb  CA6655 -1.93283\n",
      "130  ./CA_MB_4nscCA_frame2500_align.pdb  CA6671 -2.33047\n",
      "142  ./CA_MB_4nscCA_frame2500_align.pdb  CA6683 -2.14171\n"
     ]
    }
   ],
   "source": [
    "for i in range(0,3000,500):\n",
    "    foldx_file = pd.read_csv(path015 + 'MB_4nscCA_frame' + str(i) + '_align.fxout',sep='\\t',header=None,usecols=[0,1,2])\n",
    "    print(foldx_file[foldx_file[2]<-1])"
   ]
  },
  {
   "cell_type": "code",
   "execution_count": 35,
   "id": "61c20d59",
   "metadata": {},
   "outputs": [
    {
     "data": {
      "image/png": "[encoded data removed]",
      "text/plain": [
       "<Figure size 432x288 with 1 Axes>"
      ]
     },
     "metadata": {
      "needs_background": "light"
     },
     "output_type": "display_data"
    }
   ],
   "source": [
    "labels, data = [*zip(*dict_energy.items())]  # 'transpose' items to parallel key, value lists\n",
    "\n",
    "# or backwards compatable    \n",
    "labels, data = dict_energy.keys(), dict_energy.values()\n",
    "\n",
    "plt.boxplot(data)\n",
    "plt.xticks(range(1, len(labels) + 1), labels,rotation=45,ha='right')\n",
    "plt.show()"
   ]
  },
  {
   "cell_type": "code",
   "execution_count": 34,
   "id": "6b262a3a",
   "metadata": {},
   "outputs": [],
   "source": [
    "path005 = '/home/lean/Documentos/Lean/SBG/Base_de_calcio/DiversidadConformacionalCBS/MCU/molecular dynamic/frames/CA005/'\n",
    "dict_energy = {}\n",
    "for i in range(0,3000,500):\n",
    "    foldx_file = pd.read_csv(path005 + 'MB_4nscCA_frame' + str(i) + '.fxout',sep='\\t',header=None,usecols=[0,1,2])\n",
    "    dict_energy['4nscCA_frame' + str(i)]=(foldx_file[foldx_file[2]<-0.05][2])"
   ]
  },
  {
   "cell_type": "code",
   "execution_count": null,
   "id": "36277ffa",
   "metadata": {},
   "outputs": [],
   "source": []
  }
 ],
 "metadata": {
  "kernelspec": {
   "display_name": "Python 3 (ipykernel)",
   "language": "python",
   "name": "python3"
  },
  "language_info": {
   "codemirror_mode": {
    "name": "ipython",
    "version": 3
   },
   "file_extension": ".py",
   "mimetype": "text/x-python",
   "name": "python",
   "nbconvert_exporter": "python",
   "pygments_lexer": "ipython3",
   "version": "3.9.7"
  }
 },
 "nbformat": 4,
 "nbformat_minor": 5
}
